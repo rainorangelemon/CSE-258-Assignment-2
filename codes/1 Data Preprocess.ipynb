{
 "cells": [
  {
   "cell_type": "markdown",
   "metadata": {},
   "source": [
    "# 1 Let's try to play with data"
   ]
  },
  {
   "cell_type": "code",
   "execution_count": 1,
   "metadata": {},
   "outputs": [
    {
     "data": {
      "application/vnd.jupyter.widget-view+json": {
       "model_id": "2f0471333d6a446d85bafd0807c5de99",
       "version_major": 2,
       "version_minor": 0
      },
      "text/plain": [
       "HBox(children=(IntProgress(value=0, max=1378033), HTML(value='')))"
      ]
     },
     "metadata": {},
     "output_type": "display_data"
    },
    {
     "name": "stdout",
     "output_type": "stream",
     "text": [
      "\n"
     ]
    }
   ],
   "source": [
    "import gzip\n",
    "import tqdm.notebook as tqdm\n",
    "from collections import defaultdict\n",
    "import json\n",
    "\n",
    "f = open(\"../data/goodreads_reviews_spoiler.json\")\n",
    "lines = []\n",
    "for i in tqdm.tqdm(range(1378033)):\n",
    "    lines.append(json.loads(f.readline()))"
   ]
  },
  {
   "cell_type": "code",
   "execution_count": 2,
   "metadata": {},
   "outputs": [
    {
     "data": {
      "text/plain": [
       "1378033"
      ]
     },
     "execution_count": 2,
     "metadata": {},
     "output_type": "execute_result"
    }
   ],
   "source": [
    "import random\n",
    "len(lines)\n",
    "random.shuffle(lines)\n",
    "test_size = int(len(lines)*0.2)\n",
    "test_lines = lines[:test_size]\n",
    "valid_lines = lines[test_size:test_size+10000]\n",
    "train_lines = lines[test_size+10000:]"
   ]
  },
  {
   "cell_type": "code",
   "execution_count": 3,
   "metadata": {},
   "outputs": [
    {
     "data": {
      "text/plain": [
       "{'user_id': '8842281e1d1347389f2ab93d60773d4d',\n",
       " 'timestamp': '2017-08-30',\n",
       " 'review_sentences': [[0, 'This is a special book.'],\n",
       "  [0,\n",
       "   'It started slow for about the first third, then in the middle third it started to get interesting, then the last third blew my mind.'],\n",
       "  [0,\n",
       "   'This is what I love about good science fiction - it pushes your thinking about where things can go.'],\n",
       "  [0,\n",
       "   \"It is a 2015 Hugo winner, and translated from its original Chinese, which made it interesting in just a different way from most things I've read.\"],\n",
       "  [0,\n",
       "   'For instance the intermixing of Chinese revolutionary history - how they kept accusing people of being \"reactionaries\", etc.'],\n",
       "  [0, 'It is a book about science, and aliens.'],\n",
       "  [0,\n",
       "   'The science described in the book is impressive - its a book grounded in physics and pretty accurate as far as I could tell.'],\n",
       "  [1,\n",
       "   'Though when it got to folding protons into 8 dimensions I think he was just making stuff up - interesting to think about though.'],\n",
       "  [1,\n",
       "   'But what would happen if our SETI stations received a message - if we found someone was out there - and the person monitoring and answering the signal on our side was disillusioned?'],\n",
       "  [1,\n",
       "   'That part of the book was a bit dark - I would like to think human reaction to discovering alien civilization that is hostile would be more like Enders Game where we would band together.'],\n",
       "  [1,\n",
       "   'I did like how the book unveiled the Trisolaran culture through the game.'],\n",
       "  [1,\n",
       "   \"It was a smart way to build empathy with them and also understand what they've gone through across so many centuries.\"],\n",
       "  [1, 'And who know a 3 body problem was an unsolvable math problem?'],\n",
       "  [1,\n",
       "   \"But I still don't get who made the game - maybe that will come in the next book.\"],\n",
       "  [1, 'I loved this quote:'],\n",
       "  [1,\n",
       "   '\"In the long history of scientific progress, how many protons have been smashed apart in accelerators by physicists?'],\n",
       "  [1, 'How many neutrons and electrons?'],\n",
       "  [1, 'Probably no fewer than a hundred million.'],\n",
       "  [1,\n",
       "   'Every collision was probably the end of the civilizations and intelligences in a microcosmos.'],\n",
       "  [1,\n",
       "   'In fact, even in nature, the destruction of universes must be happening at every second--for example, through the decay of neutrons.'],\n",
       "  [1,\n",
       "   'Also, a high-energy cosmic ray entering the atmosphere may destroy thousands of such miniature universes....\"']],\n",
       " 'rating': 5,\n",
       " 'has_spoiler': True,\n",
       " 'book_id': '18245960',\n",
       " 'review_id': 'dfdbb7b0eb5a7e4c26d59a937e2e5feb'}"
      ]
     },
     "execution_count": 3,
     "metadata": {},
     "output_type": "execute_result"
    }
   ],
   "source": [
    "lines[0]"
   ]
  },
  {
   "cell_type": "code",
   "execution_count": 4,
   "metadata": {},
   "outputs": [
    {
     "data": {
      "text/plain": [
       "(89627, 0.06503980673902585)"
      ]
     },
     "execution_count": 4,
     "metadata": {},
     "output_type": "execute_result"
    }
   ],
   "source": [
    "import numpy as np\n",
    "n_spoiler_reviews = np.sum([line['has_spoiler'] for line in lines])\n",
    "n_spoiler_reviews, n_spoiler_reviews/len(lines)"
   ]
  },
  {
   "cell_type": "code",
   "execution_count": 5,
   "metadata": {},
   "outputs": [
    {
     "data": {
      "text/plain": [
       "(569724, 17672655, 0.03223760097167064)"
      ]
     },
     "execution_count": 5,
     "metadata": {},
     "output_type": "execute_result"
    }
   ],
   "source": [
    "import numpy as np\n",
    "n_spoiler_sentences = np.sum([sentence[0] for line in lines for sentence in line['review_sentences']])\n",
    "n_sentences = np.sum([len(line['review_sentences']) for line in lines])\n",
    "n_spoiler_sentences, n_sentences, n_spoiler_sentences/n_sentences"
   ]
  },
  {
   "cell_type": "code",
   "execution_count": 6,
   "metadata": {},
   "outputs": [],
   "source": [
    "sentences = [sentence[1] for line in lines for sentence in line['review_sentences']]\n",
    "labels = [sentence[0] for sentence in sentences]"
   ]
  },
  {
   "cell_type": "code",
   "execution_count": 7,
   "metadata": {},
   "outputs": [
    {
     "data": {
      "application/vnd.jupyter.widget-view+json": {
       "model_id": "4a353b573964441283b22b1fc22c5642",
       "version_major": 2,
       "version_minor": 0
      },
      "text/plain": [
       "HBox(children=(IntProgress(value=0, max=1378033), HTML(value='')))"
      ]
     },
     "metadata": {},
     "output_type": "display_data"
    },
    {
     "name": "stdout",
     "output_type": "stream",
     "text": [
      "\n"
     ]
    }
   ],
   "source": [
    "import string\n",
    "from nltk.stem.porter import *\n",
    "\n",
    "stemmer = PorterStemmer()\n",
    "punctuation = set(string.punctuation)\n",
    "\n",
    "def clean_review(sentence):\n",
    "    return ''.join([c for c in sentence.lower() if c not in punctuation])\n",
    "\n",
    "words = defaultdict(int)\n",
    "    \n",
    "for line in tqdm.tqdm(lines):\n",
    "    for sentence in line['review_sentences']:\n",
    "        sentence = clean_review(sentence[1])\n",
    "        if (sentence != '') and (sentence is not None):\n",
    "            for word in sentence.split():\n",
    "                words[word] += 1"
   ]
  },
  {
   "cell_type": "markdown",
   "metadata": {},
   "source": [
    "Let's stem these words."
   ]
  },
  {
   "cell_type": "code",
   "execution_count": 8,
   "metadata": {},
   "outputs": [
    {
     "data": {
      "application/vnd.jupyter.widget-view+json": {
       "model_id": "f5b4c562fb0047148a5add72915019dc",
       "version_major": 2,
       "version_minor": 0
      },
      "text/plain": [
       "HBox(children=(IntProgress(value=0, max=895246), HTML(value='')))"
      ]
     },
     "metadata": {},
     "output_type": "display_data"
    },
    {
     "name": "stdout",
     "output_type": "stream",
     "text": [
      "\n"
     ]
    }
   ],
   "source": [
    "stem_words = defaultdict(int)\n",
    "map_stem_words = {}\n",
    "for word in tqdm.tqdm(list(words.keys())):\n",
    "    stem_word = stemmer.stem(word)\n",
    "    map_stem_words[word] = stem_word\n",
    "    stem_words[stem_word] += words[word]"
   ]
  },
  {
   "cell_type": "markdown",
   "metadata": {},
   "source": [
    "Let's look at some high-frequency words."
   ]
  },
  {
   "cell_type": "code",
   "execution_count": 9,
   "metadata": {},
   "outputs": [
    {
     "data": {
      "text/plain": [
       "[(12689322, 'the'),\n",
       " (8411444, 'and'),\n",
       " (7832234, 'i'),\n",
       " (6832296, 'to'),\n",
       " (6524879, 'a'),\n",
       " (5653305, 'of'),\n",
       " (5082446, 'it'),\n",
       " (3898974, 'that'),\n",
       " (3687311, 'is'),\n",
       " (3661654, 'in'),\n",
       " (3514977, 'wa'),\n",
       " (3468597, 'thi'),\n",
       " (3132365, 'book'),\n",
       " (2491119, 'but'),\n",
       " (2272462, 'for'),\n",
       " (2082090, 'her'),\n",
       " (2049041, 'with'),\n",
       " (1789251, 'she'),\n",
       " (1624647, 'read'),\n",
       " (1615469, 'be')]"
      ]
     },
     "execution_count": 9,
     "metadata": {},
     "output_type": "execute_result"
    }
   ],
   "source": [
    "counts = [(stem_words[w], w) for w in stem_words]\n",
    "counts.sort()\n",
    "counts.reverse()\n",
    "\n",
    "counts[:20]"
   ]
  },
  {
   "cell_type": "markdown",
   "metadata": {},
   "source": [
    "# 1.5 Basic Test for Whole Review"
   ]
  },
  {
   "cell_type": "markdown",
   "metadata": {},
   "source": [
    "## 1.5.1 Get the most 10000 popular words"
   ]
  },
  {
   "cell_type": "code",
   "execution_count": 10,
   "metadata": {},
   "outputs": [],
   "source": [
    "word_bags = counts[:10000]\n",
    "popular_words = set([word[1]for word in word_bags])"
   ]
  },
  {
   "cell_type": "markdown",
   "metadata": {},
   "source": [
    "## 1.5.2 Merge Sentences into Reviews"
   ]
  },
  {
   "cell_type": "code",
   "execution_count": 11,
   "metadata": {},
   "outputs": [
    {
     "data": {
      "application/vnd.jupyter.widget-view+json": {
       "model_id": "f132edc7e4244a6b9dd1868bc5220621",
       "version_major": 2,
       "version_minor": 0
      },
      "text/plain": [
       "HBox(children=(IntProgress(value=0, max=1378033), HTML(value='')))"
      ]
     },
     "metadata": {},
     "output_type": "display_data"
    },
    {
     "name": "stdout",
     "output_type": "stream",
     "text": [
      "\n"
     ]
    }
   ],
   "source": [
    "reviews = defaultdict(set)\n",
    "for line in tqdm.tqdm(lines):\n",
    "    book_id = line['book_id']\n",
    "    sentences = line['review_sentences']\n",
    "    label = line['has_spoiler']\n",
    "    paragraph = ''\n",
    "    for sentence in sentences:\n",
    "        paragraph = paragraph + \" \" + clean_review(sentence[1])\n",
    "    reviews[book_id].add((paragraph, label))"
   ]
  },
  {
   "cell_type": "markdown",
   "metadata": {},
   "source": [
    "Let's split each paragraph into list of words."
   ]
  },
  {
   "cell_type": "code",
   "execution_count": 12,
   "metadata": {},
   "outputs": [
    {
     "data": {
      "application/vnd.jupyter.widget-view+json": {
       "model_id": "3428013754e548f8a3b8e277142d401f",
       "version_major": 2,
       "version_minor": 0
      },
      "text/plain": [
       "HBox(children=(IntProgress(value=0, max=25475), HTML(value='')))"
      ]
     },
     "metadata": {},
     "output_type": "display_data"
    },
    {
     "name": "stdout",
     "output_type": "stream",
     "text": [
      "\n"
     ]
    }
   ],
   "source": [
    "splitted_review = defaultdict(set)\n",
    "for book_id in tqdm.tqdm(reviews):\n",
    "    for paragraph, label in reviews[book_id]:\n",
    "        new_paragraph = []\n",
    "        for word in paragraph.split():\n",
    "            new_paragraph.append(map_stem_words[word])\n",
    "        splitted_review[book_id].add((\" \".join(new_paragraph), label))"
   ]
  },
  {
   "cell_type": "markdown",
   "metadata": {},
   "source": [
    "## 1.5.3 Let's compute Document Frequency (DF)"
   ]
  },
  {
   "cell_type": "code",
   "execution_count": 13,
   "metadata": {},
   "outputs": [
    {
     "data": {
      "application/vnd.jupyter.widget-view+json": {
       "model_id": "823d5e13b95c427fac1c708dc3bf9e80",
       "version_major": 2,
       "version_minor": 0
      },
      "text/plain": [
       "HBox(children=(IntProgress(value=0, max=25475), HTML(value='')))"
      ]
     },
     "metadata": {},
     "output_type": "display_data"
    },
    {
     "name": "stdout",
     "output_type": "stream",
     "text": [
      "\n"
     ]
    }
   ],
   "source": [
    "DF = defaultdict(int)\n",
    "for book_id in tqdm.tqdm(splitted_review):\n",
    "    for paragraph, _ in splitted_review[book_id]:\n",
    "        all_words = set(paragraph.split())\n",
    "        for word in all_words:\n",
    "            if word in popular_words:\n",
    "                DF[word+\"-\"+book_id] += 1"
   ]
  },
  {
   "cell_type": "code",
   "execution_count": 14,
   "metadata": {},
   "outputs": [
    {
     "data": {
      "application/vnd.jupyter.widget-view+json": {
       "model_id": "056835b65ac1409f9a12930f40f0c63d",
       "version_major": 2,
       "version_minor": 0
      },
      "text/plain": [
       "HBox(children=(IntProgress(value=0, max=25475), HTML(value='')))"
      ]
     },
     "metadata": {},
     "output_type": "display_data"
    },
    {
     "name": "stdout",
     "output_type": "stream",
     "text": [
      "\n"
     ]
    }
   ],
   "source": [
    "final_DF = defaultdict(float)\n",
    "for book_id in tqdm.tqdm(splitted_review):\n",
    "    d_i = len(splitted_review[book_id])\n",
    "    for word in popular_words:\n",
    "        if (word+\"-\"+book_id) in DF:\n",
    "            final_DF[word+\"-\"+book_id] = DF[word+\"-\"+book_id] / d_i"
   ]
  },
  {
   "cell_type": "code",
   "execution_count": 15,
   "metadata": {},
   "outputs": [],
   "source": [
    "DF = final_DF"
   ]
  },
  {
   "cell_type": "code",
   "execution_count": 49,
   "metadata": {},
   "outputs": [
    {
     "data": {
      "image/png": "[encoded data removed]",
      "text/plain": [
       "<Figure size 432x288 with 1 Axes>"
      ]
     },
     "metadata": {
      "needs_background": "light"
     },
     "output_type": "display_data"
    }
   ],
   "source": [
    "plt.hist(DF.values(), bins = 30)\n",
    "plt.yscale('log', nonposy='clip')\n",
    "plt.show()"
   ]
  },
  {
   "cell_type": "markdown",
   "metadata": {},
   "source": [
    "## 1.5.4 Let's compute Inverse Item Frequency (IIF)"
   ]
  },
  {
   "cell_type": "code",
   "execution_count": 46,
   "metadata": {
    "scrolled": false
   },
   "outputs": [
    {
     "data": {
      "application/vnd.jupyter.widget-view+json": {
       "model_id": "b843226cb4a04c00ad675aa1cf8ec1aa",
       "version_major": 2,
       "version_minor": 0
      },
      "text/plain": [
       "HBox(children=(IntProgress(value=0, max=25475), HTML(value='')))"
      ]
     },
     "metadata": {},
     "output_type": "display_data"
    },
    {
     "name": "stdout",
     "output_type": "stream",
     "text": [
      "\n"
     ]
    }
   ],
   "source": [
    "IF = defaultdict(float)\n",
    "epsilon = 1e-5\n",
    "for book_id in tqdm.tqdm(splitted_review):\n",
    "    whole_paragraph = ''\n",
    "    for paragraph, _ in splitted_review[book_id]:\n",
    "        whole_paragraph += ' ' + paragraph\n",
    "    all_words = set(whole_paragraph.split())\n",
    "    for word in all_words:\n",
    "        if word in popular_words:\n",
    "            IF[word] += 1\n",
    "\n",
    "IIF = defaultdict(float)    \n",
    "for word in IF:\n",
    "    IIF[word] = - np.log((IF[word] + epsilon) / (len(splitted_review) + epsilon))"
   ]
  },
  {
   "cell_type": "code",
   "execution_count": 47,
   "metadata": {},
   "outputs": [
    {
     "data": {
      "image/png": "[encoded data removed]",
      "text/plain": [
       "<Figure size 432x288 with 1 Axes>"
      ]
     },
     "metadata": {
      "needs_background": "light"
     },
     "output_type": "display_data"
    }
   ],
   "source": [
    "%matplotlib inline\n",
    "import matplotlib.pyplot as plt\n",
    "plt.hist(IIF.values(), bins = 30)\n",
    "plt.show()"
   ]
  },
  {
   "cell_type": "markdown",
   "metadata": {},
   "source": [
    "## 1.5.5 Let's compute DF-IIF"
   ]
  },
  {
   "cell_type": "code",
   "execution_count": 50,
   "metadata": {},
   "outputs": [
    {
     "data": {
      "application/vnd.jupyter.widget-view+json": {
       "model_id": "429b84d259524985aaa13642e5c6dd0a",
       "version_major": 2,
       "version_minor": 0
      },
      "text/plain": [
       "HBox(children=(IntProgress(value=0, max=29864070), HTML(value='')))"
      ]
     },
     "metadata": {},
     "output_type": "display_data"
    },
    {
     "name": "stdout",
     "output_type": "stream",
     "text": [
      "\n"
     ]
    }
   ],
   "source": [
    "DF_IIF = defaultdict(float)\n",
    "for word_book_id in tqdm.tqdm(DF):\n",
    "    try:\n",
    "        word, book_id = word_book_id.split(\"-\")\n",
    "    except:\n",
    "        print(word_book_id)\n",
    "    DF_IIF[word_book_id] = DF[word_book_id] * IIF[word]"
   ]
  },
  {
   "cell_type": "code",
   "execution_count": 52,
   "metadata": {},
   "outputs": [
    {
     "data": {
      "image/png": "[encoded data removed]",
      "text/plain": [
       "<Figure size 432x288 with 1 Axes>"
      ]
     },
     "metadata": {
      "needs_background": "light"
     },
     "output_type": "display_data"
    }
   ],
   "source": [
    "%matplotlib inline\n",
    "import matplotlib.pyplot as plt\n",
    "plt.hist(DF_IIF.values(), bins = 30)\n",
    "plt.yscale('log', nonposy='clip')\n",
    "plt.show()"
   ]
  },
  {
   "cell_type": "code",
   "execution_count": null,
   "metadata": {},
   "outputs": [],
   "source": [
    "counts = [(DF_IIF[w], w) for w in DF_IIF]"
   ]
  },
  {
   "cell_type": "code",
   "execution_count": 94,
   "metadata": {},
   "outputs": [
    {
     "data": {
      "text/plain": [
       "[(7.372863511243882, 'eadlyn-22895349'),\n",
       " (6.828810356841093, 'naji-13584141'),\n",
       " (6.81324799116547, 'zarek-6652338'),\n",
       " (6.535722304574935, 'reena-18113193'),\n",
       " (6.5078664355992215, 'mateo-34925164'),\n",
       " (6.383787812802067, 'aza-22864466'),\n",
       " (6.338606146338965, 'everli-23166903'),\n",
       " (6.312529617499106, 'naz-28670916'),\n",
       " (6.262522633238889, 'vivi-9615212'),\n",
       " (6.255329012152291, 'nastya-16088305'),\n",
       " (6.2339189702538125, 'xcor-31356376'),\n",
       " (6.195198767462519, 'everli-27416023'),\n",
       " (6.156468626734025, 'killian-30171411'),\n",
       " (6.155351795592731, 'aysel-23301770'),\n",
       " (6.152176553799584, 'everli-27015397'),\n",
       " (6.144052926036569, 'jacinda-958540'),\n",
       " (6.056220436591529, 'etta-22456945'),\n",
       " (6.034578830375743, 'jt-22847886'),\n",
       " (6.021843821569989, 'gamach-33602101'),\n",
       " (5.990451602885654, 'audra-34382818')]"
      ]
     },
     "execution_count": 94,
     "metadata": {},
     "output_type": "execute_result"
    }
   ],
   "source": [
    "counts.sort(key=lambda kv: kv[0])\n",
    "counts.reverse()\n",
    "\n",
    "counts[:20]"
   ]
  },
  {
   "cell_type": "code",
   "execution_count": 96,
   "metadata": {
    "scrolled": false
   },
   "outputs": [
    {
     "data": {
      "text/plain": [
       "[(7.372863511243882, 'eadlyn-22895349'),\n",
       " (6.828810356841093, 'naji-13584141'),\n",
       " (6.81324799116547, 'zarek-6652338'),\n",
       " (6.535722304574935, 'reena-18113193'),\n",
       " (6.5078664355992215, 'mateo-34925164'),\n",
       " (6.383787812802067, 'aza-22864466'),\n",
       " (6.338606146338965, 'everli-23166903'),\n",
       " (6.312529617499106, 'naz-28670916'),\n",
       " (6.262522633238889, 'vivi-9615212'),\n",
       " (6.255329012152291, 'nastya-16088305'),\n",
       " (6.2339189702538125, 'xcor-31356376'),\n",
       " (6.195198767462519, 'everli-27416023'),\n",
       " (6.156468626734025, 'killian-30171411'),\n",
       " (6.155351795592731, 'aysel-23301770'),\n",
       " (6.152176553799584, 'everli-27015397'),\n",
       " (6.144052926036569, 'jacinda-958540'),\n",
       " (6.056220436591529, 'etta-22456945'),\n",
       " (6.034578830375743, 'jt-22847886'),\n",
       " (6.021843821569989, 'gamach-33602101'),\n",
       " (5.990451602885654, 'audra-34382818'),\n",
       " (5.963302749714725, 'avri-13124584'),\n",
       " (5.945857670357968, 'eadlyn-24965992'),\n",
       " (5.926101169407434, 'jaron-18222545'),\n",
       " (5.9188925734316244, 'kricket-24931971'),\n",
       " (5.91700972545898, 'sutter-17620971'),\n",
       " (5.91487661732759, 'hatti-15760528'),\n",
       " (5.895491132781412, 'rhine-10679558'),\n",
       " (5.8725321649905124, 'everli-25058499'),\n",
       " (5.860949459212986, 'garrick-22926876'),\n",
       " (5.850823349313618, 'mariko-34410197'),\n",
       " (5.8152162905585545, 'fayth-2314315'),\n",
       " (5.811299757170548, 'auden-24683240'),\n",
       " (5.81055763428337, 'arlen-9127479'),\n",
       " (5.809147569005301, 'ryle-18586586'),\n",
       " (5.804064436025522, 'shazi-31521391'),\n",
       " (5.796901522318637, 'zeth-23286130'),\n",
       " (5.792119674054558, 'lada-27153280'),\n",
       " (5.781261684421408, 'brynn-25530002'),\n",
       " (5.777053638995605, 'moran-25813965'),\n",
       " (5.772147194679456, 'jackabi-23003390'),\n",
       " (5.765055992524629, 'lothair-11053910'),\n",
       " (5.73875737758508, 'twylla-23411347'),\n",
       " (5.72300458546134, 'laila-13638436'),\n",
       " (5.717678022038571, 'sybella-9943270'),\n",
       " (5.7015510940285985, 'ryker-23834721'),\n",
       " (5.66675423005031, 'sylvi-31076276'),\n",
       " (5.63510940205637, 'azriel-15840662'),\n",
       " (5.626228233787247, 'payton-30094632'),\n",
       " (5.614133681188565, 'flavia-21874813'),\n",
       " (5.612853257803335, 'dalton-26165817'),\n",
       " (5.610092573412163, 'jaxon-29853107'),\n",
       " (5.606810126841777, 'cyn-22606267'),\n",
       " (5.6042842859187125, 'jori-34537418'),\n",
       " (5.603537485348904, 'alexia-7739803'),\n",
       " (5.60337626854535, 'eadlyn-23215489'),\n",
       " (5.582482025479338, 'reacher-13359067'),\n",
       " (5.57478805283493, 'kenzi-26523649'),\n",
       " (5.573918889175154, 'rhine-11733134'),\n",
       " (5.57256322811126, 'zeth-23118889'),\n",
       " (5.561368887216953, 'arabi-13599291'),\n",
       " (5.531826977748427, 'yelena-25785366'),\n",
       " (5.527209839027705, 'bosch-20881071'),\n",
       " (5.524307542289548, 'pia-27418163'),\n",
       " (5.519602201414412, 'kricket-20977124'),\n",
       " (5.516286586442034, 'reacher-17262159'),\n",
       " (5.515910033124753, 'bex-28218622'),\n",
       " (5.515857234079578, 'gladwel-15751404'),\n",
       " (5.50596350897277, 'jori-16007018'),\n",
       " (5.501061863188253, 'amish-12924075'),\n",
       " (5.501061863188253, 'noell-25798995'),\n",
       " (5.491492413087853, 'miriam-13793061'),\n",
       " (5.491492413087853, 'denis-7648737'),\n",
       " (5.490006735842945, 'caymen-17251018'),\n",
       " (5.489970184336982, 'sera-12677691'),\n",
       " (5.489970184336982, 'caden-23444087'),\n",
       " (5.472416557096911, 'malachi-24905116'),\n",
       " (5.471818125258915, 'fia-29102570'),\n",
       " (5.463453401336534, 'selen-10741702'),\n",
       " (5.4625747805544425, 'hadley-18490489'),\n",
       " (5.461123720577613, 'reacher-19186417'),\n",
       " (5.45843448921566, 'xhex-7894402'),\n",
       " (5.456652703056171, 'lilah-18271314'),\n",
       " (5.456106214606961, 'flavia-26194013'),\n",
       " (5.450587330661961, 'zara-34099086'),\n",
       " (5.440089768157249, 'ansel-29951622'),\n",
       " (5.437114235258578, 'jaz-1088892'),\n",
       " (5.429187324550844, 'reacher-2211221'),\n",
       " (5.4282413043106255, 'hana-16159765'),\n",
       " (5.42328967361622, 'meira-20602999'),\n",
       " (5.42328967361622, 'yarvi-25448465'),\n",
       " (5.422525346935574, 'rogan-35157299'),\n",
       " (5.418434533792974, 'meda-23164707'),\n",
       " (5.418064951275555, 'abel-17447382'),\n",
       " (5.4159877865583805, 'moran-12091244'),\n",
       " (5.415213110170029, 'meda-20256261'),\n",
       " (5.407591280612239, 'eugeni-8840097'),\n",
       " (5.406141532499198, 'juneau-18635064'),\n",
       " (5.4023056993146295, 'darla-18633571'),\n",
       " (5.396149003457434, 'flavia-8517008'),\n",
       " (5.3919036910471165, 'attolia-30363360'),\n",
       " (5.381381497527419, 'risa-15749143'),\n",
       " (5.380987356513745, 'bosch-11082037'),\n",
       " (5.380477628641302, 'jaz-6339619'),\n",
       " (5.373974935582468, 'arabi-12924275'),\n",
       " (5.368759603323607, 'isma-13035363'),\n",
       " (5.366329281338328, 'reev-23014597'),\n",
       " (5.362381762753736, 'agnieszka-25492314'),\n",
       " (5.359900456563959, 'bitterblu-7962513'),\n",
       " (5.359900456563959, 'bitterblu-17623976'),\n",
       " (5.355366744701227, 'zelda-25414666'),\n",
       " (5.343774616070935, 'flavia-11277218'),\n",
       " (5.339835299650315, 'jori-12478639'),\n",
       " (5.339819168420741, 'phuri-1240662'),\n",
       " (5.335393754099367, 'edi-27833862'),\n",
       " (5.335260545980484, 'gia-29939285'),\n",
       " (5.334896712277169, 'willowdean-18304322'),\n",
       " (5.333149400533148, 'tarver-18284908'),\n",
       " (5.312429993367724, 'haden-18053984'),\n",
       " (5.309425839450457, 'reacher-10428708'),\n",
       " (5.306436013226379, 'wyld-32072126'),\n",
       " (5.303146580777895, 'sienna-16300729'),\n",
       " (5.298818113357836, 'lochan-10807160'),\n",
       " (5.298149646921665, 'delia-23755421'),\n",
       " (5.2977063032147305, 'dain-13833'),\n",
       " (5.2963317206605485, 'madoc-18129852'),\n",
       " (5.295273631799763, 'alessandro-17824633'),\n",
       " (5.295273631799763, 'lorcan-11643376'),\n",
       " (5.295273631799763, 'lorcan-11125337'),\n",
       " (5.287821170207907, 'alera-6056287'),\n",
       " (5.2810614466943155, 'scorpiu-22859804'),\n",
       " (5.276502300620725, 'willem-17465482'),\n",
       " (5.260601408066575, 'radu-27153280'),\n",
       " (5.255934164613363, 'zarek-84145'),\n",
       " (5.245895293647682, 'jessa-34332260'),\n",
       " (5.234706006497695, 'lada-22817331'),\n",
       " (5.22886372740216, 'ryke-18308266'),\n",
       " (5.228185073049315, 'payn-10803619'),\n",
       " (5.227568027317258, 'lanyon-26400713'),\n",
       " (5.225548958601706, 'emilio-18283798'),\n",
       " (5.221846517856154, 'tod-9680403'),\n",
       " (5.21875475970197, 'eugeni-11336491'),\n",
       " (5.218199100862497, 'remi-18371377'),\n",
       " (5.217535573685673, 'kaleb-12680986'),\n",
       " (5.216175955868939, 'jori-16078540'),\n",
       " (5.2141015034752005, 'flavia-17834904'),\n",
       " (5.210978853410332, 'hayden-26523649'),\n",
       " (5.208688993623578, 'tella-16069167'),\n",
       " (5.206760443519274, 'aden-17729791'),\n",
       " (5.206293148479378, 'tohr-13270995'),\n",
       " (5.20074960951474, 'juneau-13601681'),\n",
       " (5.198863090074623, 'pippa-13599714'),\n",
       " (5.198665643943591, 'drago-24667299'),\n",
       " (5.1979862793745895, 'laia-28446392'),\n",
       " (5.195772936171495, 'kendra-17225323'),\n",
       " (5.195335166920725, 'marko-18683518'),\n",
       " (5.180540923327527, 'kricket-19504931'),\n",
       " (5.1779612259394545, 'meda-17345314'),\n",
       " (5.17492337677613, 'hana-13268759'),\n",
       " (5.172803784905646, 'quinton-18210226'),\n",
       " (5.172008731768096, 'jacinda-9436632'),\n",
       " (5.16525852349565, 'lainey-26798836'),\n",
       " (5.1650377843964, 'yarvi-24714927'),\n",
       " (5.1650377843964, 'yarvi-22454302'),\n",
       " (5.1586020504538554, 'genya-17997353'),\n",
       " (5.158558553269771, 'braden-15938668'),\n",
       " (5.153880556814583, 'sid-29355036'),\n",
       " (5.151399079588795, 'rogan-24611850'),\n",
       " (5.137211716581628, 'bigbi-7619569'),\n",
       " (5.135819005415408, 'kayle-13560111'),\n",
       " (5.135819005415408, 'kayle-17328635'),\n",
       " (5.134389822765277, 'reacher-6977769'),\n",
       " (5.134277245089935, 'risa-13478341'),\n",
       " (5.132402797310997, 'maci-25184992'),\n",
       " (5.13134538760612, 'pippa-17707115'),\n",
       " (5.130390522278354, 'morpheu-17290243'),\n",
       " (5.121994901355807, 'kieran-33665297'),\n",
       " (5.121607767630819, 'ananna-13584141'),\n",
       " (5.113609102773932, 'kayden-25656580'),\n",
       " (5.109973758853984, 'kelsea-23482780'),\n",
       " (5.109823364283146, 'reacher-21745'),\n",
       " (5.1069490086855645, 'drago-21003662'),\n",
       " (5.106942917806858, 'rishi-32934117'),\n",
       " (5.101304337332014, 'delaney-18103193'),\n",
       " (5.101304337332014, 'delaney-12157270'),\n",
       " (5.100084157647421, 'cronin-25112503'),\n",
       " (5.100078807045279, 'manon-31348622'),\n",
       " (5.0993552482593465, 'sierra-18467599'),\n",
       " (5.09242318720221, 'livi-21882221'),\n",
       " (5.091134738752605, 'judd-6522689'),\n",
       " (5.087805165060549, 'jase-31417087')]"
      ]
     },
     "execution_count": 96,
     "metadata": {},
     "output_type": "execute_result"
    }
   ],
   "source": [
    "counts[:190]"
   ]
  },
  {
   "cell_type": "markdown",
   "metadata": {},
   "source": [
    "## 1.5.6 Save Parameters"
   ]
  },
  {
   "cell_type": "code",
   "execution_count": 53,
   "metadata": {},
   "outputs": [],
   "source": [
    "import pickle\n",
    "with open('../data/DF-IIF.pkl', 'w+') as f:\n",
    "    json.dump({'DF':DF, 'IIF':IIF, 'DF-IIF':DF_IIF}, f)"
   ]
  },
  {
   "cell_type": "markdown",
   "metadata": {},
   "source": [
    "# 2 Let's do some basic statistics."
   ]
  },
  {
   "cell_type": "markdown",
   "metadata": {},
   "source": [
    "## 2.1 Compute Histogram For Non-Spoiler Paragraph and Spoiler Paragraph"
   ]
  },
  {
   "cell_type": "code",
   "execution_count": null,
   "metadata": {},
   "outputs": [
    {
     "data": {
      "application/vnd.jupyter.widget-view+json": {
       "model_id": "4d7cf90ada9e41638f5263da37c14d5a",
       "version_major": 2,
       "version_minor": 0
      },
      "text/plain": [
       "HBox(children=(IntProgress(value=0, max=25475), HTML(value='')))"
      ]
     },
     "metadata": {},
     "output_type": "display_data"
    }
   ],
   "source": [
    "DF_IIF_no_spoiler = defaultdict(int)\n",
    "DF_IIF_spoiler = defaultdict(int)\n",
    "for book_id in tqdm.tqdm(splitted_review):\n",
    "    for paragraph, label in splitted_review[book_id]:\n",
    "        result = defaultdict(int)\n",
    "        words = paragraph.split()\n",
    "        for word in words:\n",
    "            if word in popular_words:\n",
    "                result[word] += 1\n",
    "        if label == 1:\n",
    "            for word in result:\n",
    "                DF_IIF_spoiler[word+\"-\"+book_id] += result[word]\n",
    "        else:\n",
    "            for word in result:\n",
    "                DF_IIF_no_spoiler[word+\"-\"+book_id] += result[word]\n",
    "                \n",
    "counts_no_spoiler = DF_IIF_no_spoiler\n",
    "counts_spoiler = DF_IIF_spoiler"
   ]
  },
  {
   "cell_type": "code",
   "execution_count": 78,
   "metadata": {},
   "outputs": [
    {
     "data": {
      "application/vnd.jupyter.widget-view+json": {
       "model_id": "de063ff57d12496f9284d84127598854",
       "version_major": 2,
       "version_minor": 0
      },
      "text/plain": [
       "HBox(children=(IntProgress(value=0, max=27673957), HTML(value='')))"
      ]
     },
     "metadata": {},
     "output_type": "display_data"
    },
    {
     "name": "stdout",
     "output_type": "stream",
     "text": [
      "\n"
     ]
    },
    {
     "data": {
      "application/vnd.jupyter.widget-view+json": {
       "model_id": "f59d2a1ca9fb46b193bfbce68b4f7f4d",
       "version_major": 2,
       "version_minor": 0
      },
      "text/plain": [
       "HBox(children=(IntProgress(value=0, max=8529593), HTML(value='')))"
      ]
     },
     "metadata": {},
     "output_type": "display_data"
    },
    {
     "name": "stdout",
     "output_type": "stream",
     "text": [
      "\n"
     ]
    }
   ],
   "source": [
    "def find_bin(freq, n_bins=30):\n",
    "    return int(freq*n_bins)\n",
    "\n",
    "DF_IIF_no_spoiler = defaultdict(int)\n",
    "DF_IIF_spoiler = defaultdict(int)\n",
    "for word in tqdm.tqdm(counts_no_spoiler):\n",
    "    DF_IIF_no_spoiler[find_bin(DF_IIF[word])] += counts_no_spoiler[word]\n",
    "\n",
    "for word in tqdm.tqdm(counts_spoiler):\n",
    "    DF_IIF_spoiler[find_bin(DF_IIF[word])] += counts_spoiler[word]    "
   ]
  },
  {
   "cell_type": "code",
   "execution_count": 85,
   "metadata": {},
   "outputs": [
    {
     "data": {
      "application/vnd.jupyter.widget-view+json": {
       "model_id": "a7ad532ba3e54ee0807995b11f74fe62",
       "version_major": 2,
       "version_minor": 0
      },
      "text/plain": [
       "HBox(children=(IntProgress(value=0, max=192), HTML(value='')))"
      ]
     },
     "metadata": {},
     "output_type": "display_data"
    },
    {
     "name": "stdout",
     "output_type": "stream",
     "text": [
      "\n"
     ]
    },
    {
     "data": {
      "application/vnd.jupyter.widget-view+json": {
       "model_id": "c899f9f4069046299201aa19ae467d13",
       "version_major": 2,
       "version_minor": 0
      },
      "text/plain": [
       "HBox(children=(IntProgress(value=0, max=190), HTML(value='')))"
      ]
     },
     "metadata": {},
     "output_type": "display_data"
    },
    {
     "name": "stdout",
     "output_type": "stream",
     "text": [
      "\n"
     ]
    }
   ],
   "source": [
    "no_spoiler_sum = np.sum(list(DF_IIF_no_spoiler.values()))\n",
    "for key in tqdm.tqdm(DF_IIF_no_spoiler):\n",
    "    DF_IIF_no_spoiler[key] = DF_IIF_no_spoiler[key] / no_spoiler_sum\n",
    "    \n",
    "spoiler_sum = np.sum(list(DF_IIF_spoiler.values()))\n",
    "for key in tqdm.tqdm(DF_IIF_spoiler):\n",
    "    DF_IIF_spoiler[key] = DF_IIF_spoiler[key] / spoiler_sum    "
   ]
  },
  {
   "cell_type": "code",
   "execution_count": 86,
   "metadata": {},
   "outputs": [
    {
     "data": {
      "image/png": "[encoded data removed]",
      "text/plain": [
       "<Figure size 432x288 with 1 Axes>"
      ]
     },
     "metadata": {
      "needs_background": "light"
     },
     "output_type": "display_data"
    }
   ],
   "source": [
    "plt.bar(DF_IIF_spoiler.keys(), DF_IIF_spoiler.values(), color='g')\n",
    "plt.yscale('log', nonposy='clip')\n",
    "plt.show()"
   ]
  },
  {
   "cell_type": "code",
   "execution_count": 87,
   "metadata": {},
   "outputs": [
    {
     "data": {
      "image/png": "[encoded data removed]",
      "text/plain": [
       "<Figure size 432x288 with 1 Axes>"
      ]
     },
     "metadata": {
      "needs_background": "light"
     },
     "output_type": "display_data"
    }
   ],
   "source": [
    "plt.bar(DF_IIF_no_spoiler.keys(), DF_IIF_no_spoiler.values(), color='g')\n",
    "plt.yscale('log', nonposy='clip')\n",
    "plt.show()"
   ]
  },
  {
   "cell_type": "code",
   "execution_count": 91,
   "metadata": {},
   "outputs": [
    {
     "data": {
      "image/png": "[encoded data removed]",
      "text/plain": [
       "<Figure size 432x288 with 1 Axes>"
      ]
     },
     "metadata": {
      "needs_background": "light"
     },
     "output_type": "display_data"
    }
   ],
   "source": [
    "difference = defaultdict(int)\n",
    "for i in range(250):\n",
    "    difference[i] = DF_IIF_no_spoiler[i] - DF_IIF_spoiler[i]\n",
    "plt.bar(difference.keys(), difference.values(), color='g')\n",
    "plt.yscale('log', nonposy='clip')\n",
    "plt.show()"
   ]
  },
  {
   "cell_type": "code",
   "execution_count": 92,
   "metadata": {},
   "outputs": [
    {
     "data": {
      "image/png": "[encoded data removed]",
      "text/plain": [
       "<Figure size 432x288 with 1 Axes>"
      ]
     },
     "metadata": {
      "needs_background": "light"
     },
     "output_type": "display_data"
    }
   ],
   "source": [
    "difference = defaultdict(int)\n",
    "for i in range(250):\n",
    "    difference[i] = DF_IIF_spoiler[i] - DF_IIF_no_spoiler[i]\n",
    "plt.bar(difference.keys(), difference.values(), color='g')\n",
    "plt.yscale('log', nonposy='clip')\n",
    "plt.show()"
   ]
  }
 ],
 "metadata": {
  "kernelspec": {
   "display_name": "RecSys",
   "language": "python",
   "name": "recsys"
  },
  "language_info": {
   "codemirror_mode": {
    "name": "ipython",
    "version": 3
   },
   "file_extension": ".py",
   "mimetype": "text/x-python",
   "name": "python",
   "nbconvert_exporter": "python",
   "pygments_lexer": "ipython3",
   "version": "3.7.4"
  },
  "toc": {
   "base_numbering": 1,
   "nav_menu": {},
   "number_sections": false,
   "sideBar": true,
   "skip_h1_title": false,
   "title_cell": "Table of Contents",
   "title_sidebar": "Contents",
   "toc_cell": false,
   "toc_position": {},
   "toc_section_display": true,
   "toc_window_display": false
  }
 },
 "nbformat": 4,
 "nbformat_minor": 2
}
