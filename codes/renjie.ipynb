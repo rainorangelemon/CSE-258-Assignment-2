{
 "cells": [
  {
   "cell_type": "markdown",
   "metadata": {},
   "source": [
    "# 1 Let's try to play with data"
   ]
  },
  {
   "cell_type": "code",
   "execution_count": 1,
   "metadata": {},
   "outputs": [
    {
     "data": {
      "application/vnd.jupyter.widget-view+json": {
       "model_id": "c2faafdf870347c6a1cf6e81480046b0",
       "version_major": 2,
       "version_minor": 0
      },
      "text/plain": [
       "HBox(children=(IntProgress(value=0, max=1378033), HTML(value='')))"
      ]
     },
     "metadata": {},
     "output_type": "display_data"
    },
    {
     "name": "stdout",
     "output_type": "stream",
     "text": [
      "\n"
     ]
    }
   ],
   "source": [
    "import gzip\n",
    "import tqdm.notebook as tqdm\n",
    "from collections import defaultdict\n",
    "import json\n",
    "\n",
    "f = open(\"../data/goodreads_reviews_spoiler.json\")\n",
    "lines = []\n",
    "for i in tqdm.tqdm(range(1378033)):\n",
    "    lines.append(json.loads(f.readline()))"
   ]
  },
  {
   "cell_type": "code",
   "execution_count": 2,
   "metadata": {},
   "outputs": [],
   "source": [
    "import random\n",
    "len(lines)\n",
    "random.shuffle(lines)\n",
    "test_size = int(len(lines)*0.2)\n",
    "test_lines = lines[:test_size]\n",
    "valid_lines = lines[test_size:test_size+10000]\n",
    "train_lines = lines[test_size+10000:]"
   ]
  },
  {
   "cell_type": "code",
   "execution_count": 9,
   "metadata": {
    "scrolled": true
   },
   "outputs": [
    {
     "data": {
      "text/plain": [
       "{'user_id': '6dcb2c16e12a41ae0c6c38e9d46f3292',\n",
       " 'timestamp': '2017-04-26',\n",
       " 'review_sentences': [[0, '4,5 Stars!'],\n",
       "  [0,\n",
       "   \"I've been clearly in a funk those past few months but finally a book put me out of my misery.\"],\n",
       "  [0,\n",
       "   'Fear me is an excellent mixture of crazy, over-the-top plotline, unimaginable tension, fearless passion and the weirdest love/hate relationship i ever encountered.'],\n",
       "  [0, 'Needless to say i fell in love with it right away.'],\n",
       "  [0,\n",
       "   'Even though the author is obviously inspired by Bully written by Penelope Douglas she succeeds in delivering a distinctively new story without mimicking the writing nor the tone.'],\n",
       "  [0,\n",
       "   \"She only happens to use a few similar ideas but in a whole other way, so that it doesn't end up bothering anyone.\"],\n",
       "  [0,\n",
       "   'I can also say that i was a bit wary of this series after all the hype it amassed and i ended up postponing reading it for quite a while.'],\n",
       "  [0,\n",
       "   \"Of course i was wrong -thank Goodness- but i'm lucky because now i can go on reading all of the five books without waiting for a new installment.\"],\n",
       "  [0,\n",
       "   \"And believe me after that first cliffhanger i wouldn't have been able to cope.\"],\n",
       "  [0,\n",
       "   \"Now let's delve into the story, Keiran Masters is a dark figure, definitely the Prince of Bainbridge High, definitely not charming, but his unhealthy obsession for Lake Monroe is what brings him to his knees.\"],\n",
       "  [0,\n",
       "   'He hates her with such a passion and at the same time craves her like a drug.'],\n",
       "  [0,\n",
       "   \"But he doesn't show it around, only his close friends know it, until a day comes when the bully will end up behind bars.\"],\n",
       "  [0,\n",
       "   'A year later he is back with a vengeance and ready to take down Lake for good.'],\n",
       "  [0,\n",
       "   'Only he has no idea about the truth and she is a bigger temptation than ever.'],\n",
       "  [0,\n",
       "   'Can he after ten years of making her everyday life a hell absolve himself?'],\n",
       "  [0, 'Does he even want to?'],\n",
       "  [0,\n",
       "   'Will he ever change his attitude towards the girl who holds his heart for far too long?'],\n",
       "  [0,\n",
       "   'Well the jury is still out on that, but what i can tell you with certainty is that this book is dark, greedy, painful at points and yet so exhilarating, just like an extreme roller-coaster.'],\n",
       "  [0,\n",
       "   \"I couldn't contain my giddiness and i still feel somewhat lightheaded but i loved every bit of it even when i wanted to hurl my tablet on the nearest wall.\"],\n",
       "  [0, 'So yeah that was a winner!'],\n",
       "  [0, 'Finally!'],\n",
       "  [0, 'THOUGHTS ABOUT THE BOOK'],\n",
       "  [0,\n",
       "   \"- I 'm really not sure that i made it clear above about how dark this book is.\"],\n",
       "  [0, 'Because make no mistake here, we are talking about a Dark-Romance.'],\n",
       "  [0,\n",
       "   \"- Dash and Willow: I loved those guys and i can't wait for their book.\"],\n",
       "  [0,\n",
       "   \"- The writing is not exceptional, but I've already started the next one and it's ten times better, more solid, put-together and with less eye-rolling moments.\"],\n",
       "  [0,\n",
       "   \"And yes that's the only reason for the 4,5 stars ratting, otherwise it would have been a huge five.\"],\n",
       "  [0, '- Sheldon and Keenan have such an insane relationship.'],\n",
       "  [0, '- What??'],\n",
       "  [0, \"Dash's fiancee ??\"],\n",
       "  [0, 'I freaked out with that.'],\n",
       "  [0, '- The tension between Keiran and Lake is a pure aphrodisiac.'],\n",
       "  [0, '- I wanted more high-school life.'],\n",
       "  [0,\n",
       "   '- This book is filled with pure obsession and Alpha males, growling \"Mine\" all the time.'],\n",
       "  [0,\n",
       "   '- I loved the scene with Keiran in her room drenched from the rain and filled with pain.'],\n",
       "  [0,\n",
       "   '- His past although a little-bit on the difficult-to-believe side was heartbreaking.']],\n",
       " 'rating': 5,\n",
       " 'has_spoiler': False,\n",
       " 'book_id': '24464449',\n",
       " 'review_id': '72cead2a413e476f05ad39fd53d9f413'}"
      ]
     },
     "execution_count": 9,
     "metadata": {},
     "output_type": "execute_result"
    }
   ],
   "source": [
    "lines[0]"
   ]
  },
  {
   "cell_type": "code",
   "execution_count": 6,
   "metadata": {},
   "outputs": [
    {
     "data": {
      "text/plain": [
       "(89627, 0.06503980673902585)"
      ]
     },
     "execution_count": 6,
     "metadata": {},
     "output_type": "execute_result"
    }
   ],
   "source": [
    "import numpy as np\n",
    "n_spoiler_reviews = np.sum([line['has_spoiler'] for line in lines])\n",
    "n_spoiler_reviews, n_spoiler_reviews/len(lines)"
   ]
  },
  {
   "cell_type": "code",
   "execution_count": 7,
   "metadata": {},
   "outputs": [
    {
     "data": {
      "text/plain": [
       "(569724, 17672655, 0.03223760097167064)"
      ]
     },
     "execution_count": 7,
     "metadata": {},
     "output_type": "execute_result"
    }
   ],
   "source": [
    "import numpy as np\n",
    "n_spoiler_sentences = np.sum([sentence[0] for line in lines for sentence in line['review_sentences']])\n",
    "n_sentences = np.sum([len(line['review_sentences']) for line in lines])\n",
    "n_spoiler_sentences, n_sentences, n_spoiler_sentences/n_sentences"
   ]
  },
  {
   "cell_type": "code",
   "execution_count": 3,
   "metadata": {},
   "outputs": [],
   "source": [
    "sentences = [sentence[1] for line in lines for sentence in line['review_sentences']]\n",
    "labels = [sentence[0] for sentence in sentences]"
   ]
  },
  {
   "cell_type": "code",
   "execution_count": 8,
   "metadata": {},
   "outputs": [],
   "source": [
    "import string\n",
    "from nltk.stem.porter import *\n",
    "\n",
    "stemmer = PorterStemmer()\n",
    "punctuation = set(string.punctuation)\n",
    "\n",
    "def clean_review(sentence):\n",
    "    return ''.join([c for c in sentence.lower() if c not in punctuation])\n",
    "\n"
   ]
  },
  {
   "cell_type": "code",
   "execution_count": null,
   "metadata": {},
   "outputs": [],
   "source": [
    "words = defaultdict(int)\n",
    "\n",
    "\n",
    "for line in tqdm.tqdm(train_lines):\n",
    "    for sentence in line['review_sentences']:\n",
    "        sentence = clean_review(sentence[1])\n",
    "        if (sentence != '') and (sentence is not None):\n",
    "            for word in sentence.split():\n",
    "                if word not in cachedStopWords:\n",
    "                    words[word] += 1"
   ]
  },
  {
   "cell_type": "code",
   "execution_count": 23,
   "metadata": {},
   "outputs": [
    {
     "data": {
      "application/vnd.jupyter.widget-view+json": {
       "model_id": "342ae9aa662b4ae5842472fa3254449b",
       "version_major": 2,
       "version_minor": 0
      },
      "text/plain": [
       "HBox(children=(IntProgress(value=0, max=1092427), HTML(value='')))"
      ]
     },
     "metadata": {},
     "output_type": "display_data"
    },
    {
     "name": "stdout",
     "output_type": "stream",
     "text": [
      "\n"
     ]
    }
   ],
   "source": [
    "# select popular words in no-spoil reviews\n",
    "words_no_spoiler = defaultdict(int)\n",
    "\n",
    "\n",
    "for line in tqdm.tqdm(train_lines):\n",
    "    for sentence in line['review_sentences']:\n",
    "        if sentence[0] == 0:\n",
    "            sentence = clean_review(sentence[1])\n",
    "            if (sentence != '') and (sentence is not None):\n",
    "                for word in sentence.split():\n",
    "                    if word not in cachedStopWords:\n",
    "                        word = map_stem_words[word]\n",
    "                        words_no_spoiler[word] += 1"
   ]
  },
  {
   "cell_type": "code",
   "execution_count": 24,
   "metadata": {},
   "outputs": [],
   "source": [
    "counts = [(words_no_spoiler[w], w) for w in words_no_spoiler]\n",
    "counts.sort()\n",
    "counts.reverse()\n",
    "\n",
    "ban_words = [x[1] for x  in counts[:100]]\n"
   ]
  },
  {
   "cell_type": "code",
   "execution_count": 9,
   "metadata": {},
   "outputs": [
    {
     "name": "stderr",
     "output_type": "stream",
     "text": [
      "[nltk_data] Downloading package stopwords to\n",
      "[nltk_data]     C:\\Users\\shaor\\AppData\\Roaming\\nltk_data...\n",
      "[nltk_data]   Package stopwords is already up-to-date!\n"
     ]
    }
   ],
   "source": [
    "import nltk\n",
    "from nltk.corpus import stopwords\n",
    "nltk.download('stopwords')\n",
    "cachedStopWords = stopwords.words(\"english\")\n",
    "#cachedStopWords"
   ]
  },
  {
   "cell_type": "markdown",
   "metadata": {},
   "source": [
    "Let's stem these words."
   ]
  },
  {
   "cell_type": "code",
   "execution_count": 11,
   "metadata": {},
   "outputs": [
    {
     "data": {
      "application/vnd.jupyter.widget-view+json": {
       "model_id": "0befd0073d1e4c2a86b3068905065c55",
       "version_major": 2,
       "version_minor": 0
      },
      "text/plain": [
       "HBox(children=(IntProgress(value=0, max=765971), HTML(value='')))"
      ]
     },
     "metadata": {},
     "output_type": "display_data"
    },
    {
     "name": "stdout",
     "output_type": "stream",
     "text": [
      "\n"
     ]
    }
   ],
   "source": [
    "stem_words = defaultdict(int)\n",
    "map_stem_words = {}\n",
    "for word in tqdm.tqdm(list(words.keys())):\n",
    "    stem_word = stemmer.stem(word)\n",
    "    map_stem_words[word] = stem_word\n",
    "    stem_words[stem_word] += words[word]"
   ]
  },
  {
   "cell_type": "markdown",
   "metadata": {},
   "source": [
    "Let's look at some high-frequency words."
   ]
  },
  {
   "cell_type": "code",
   "execution_count": 12,
   "metadata": {},
   "outputs": [
    {
     "data": {
      "text/plain": [
       "[(10052326, 'the'),\n",
       " (6660895, 'and'),\n",
       " (6202049, 'i'),\n",
       " (5410763, 'to'),\n",
       " (5167661, 'a'),\n",
       " (4478976, 'of'),\n",
       " (4024606, 'it'),\n",
       " (3086703, 'that'),\n",
       " (2922284, 'is'),\n",
       " (2898552, 'in'),\n",
       " (2784337, 'wa'),\n",
       " (2747578, 'thi'),\n",
       " (2483031, 'book'),\n",
       " (1973533, 'but'),\n",
       " (1799306, 'for'),\n",
       " (1650949, 'her'),\n",
       " (1622254, 'with'),\n",
       " (1417891, 'she'),\n",
       " (1287436, 'read'),\n",
       " (1279088, 'be')]"
      ]
     },
     "execution_count": 12,
     "metadata": {},
     "output_type": "execute_result"
    }
   ],
   "source": [
    "counts = [(stem_words[w], w) for w in stem_words]\n",
    "counts.sort()\n",
    "counts.reverse()\n",
    "\n",
    "counts[:20]"
   ]
  },
  {
   "cell_type": "markdown",
   "metadata": {},
   "source": [
    "# 1.5 Basic Test for Whole Review"
   ]
  },
  {
   "cell_type": "markdown",
   "metadata": {},
   "source": [
    "## 1.5.1 Get the most 10000 popular words"
   ]
  },
  {
   "cell_type": "code",
   "execution_count": 13,
   "metadata": {},
   "outputs": [],
   "source": [
    "word_bags = counts[:10000]\n",
    "popular_words = set([word[1]for word in word_bags])"
   ]
  },
  {
   "cell_type": "markdown",
   "metadata": {},
   "source": [
    "## 1.5.2 Merge Sentences into Reviews"
   ]
  },
  {
   "cell_type": "code",
   "execution_count": 14,
   "metadata": {},
   "outputs": [
    {
     "data": {
      "application/vnd.jupyter.widget-view+json": {
       "model_id": "2dcd706a96dd484e936700dad34f3d26",
       "version_major": 2,
       "version_minor": 0
      },
      "text/plain": [
       "HBox(children=(IntProgress(value=0, max=1092427), HTML(value='')))"
      ]
     },
     "metadata": {},
     "output_type": "display_data"
    },
    {
     "name": "stdout",
     "output_type": "stream",
     "text": [
      "\n"
     ]
    }
   ],
   "source": [
    "reviews = defaultdict(set)\n",
    "for line in tqdm.tqdm(train_lines):\n",
    "    book_id = line['book_id']\n",
    "    sentences = line['review_sentences']\n",
    "    label = line['has_spoiler']\n",
    "    paragraph = ''\n",
    "    for sentence in sentences:\n",
    "        paragraph = paragraph + \" \" + clean_review(sentence[1])\n",
    "    reviews[book_id].add((paragraph, label))"
   ]
  },
  {
   "cell_type": "markdown",
   "metadata": {},
   "source": [
    "Let's split each paragraph into list of words."
   ]
  },
  {
   "cell_type": "code",
   "execution_count": 15,
   "metadata": {},
   "outputs": [
    {
     "data": {
      "application/vnd.jupyter.widget-view+json": {
       "model_id": "e0bc008383434918934de823c560f74d",
       "version_major": 2,
       "version_minor": 0
      },
      "text/plain": [
       "HBox(children=(IntProgress(value=0, max=25475), HTML(value='')))"
      ]
     },
     "metadata": {},
     "output_type": "display_data"
    },
    {
     "name": "stdout",
     "output_type": "stream",
     "text": [
      "\n"
     ]
    }
   ],
   "source": [
    "splitted_review = defaultdict(set)\n",
    "for book_id in tqdm.tqdm(reviews):\n",
    "    for paragraph, label in reviews[book_id]:\n",
    "        new_paragraph = []\n",
    "        for word in paragraph.split():\n",
    "            new_paragraph.append(map_stem_words[word])\n",
    "        splitted_review[book_id].add((\" \".join(new_paragraph), label))"
   ]
  },
  {
   "cell_type": "markdown",
   "metadata": {},
   "source": [
    "## 1.5.3 Let's compute Document Frequency (DF)"
   ]
  },
  {
   "cell_type": "code",
   "execution_count": 16,
   "metadata": {},
   "outputs": [
    {
     "data": {
      "application/vnd.jupyter.widget-view+json": {
       "model_id": "2db9db9ed72b45c1918052c2e04f0fef",
       "version_major": 2,
       "version_minor": 0
      },
      "text/plain": [
       "HBox(children=(IntProgress(value=0, max=25475), HTML(value='')))"
      ]
     },
     "metadata": {},
     "output_type": "display_data"
    },
    {
     "name": "stdout",
     "output_type": "stream",
     "text": [
      "\n"
     ]
    }
   ],
   "source": [
    "DF = defaultdict(int)\n",
    "for book_id in tqdm.tqdm(splitted_review):\n",
    "    for paragraph, _ in splitted_review[book_id]:\n",
    "        all_words = set(paragraph.split())\n",
    "        for word in all_words:\n",
    "            if word in popular_words:\n",
    "                DF[word+\"-\"+book_id] += 1"
   ]
  },
  {
   "cell_type": "code",
   "execution_count": 17,
   "metadata": {},
   "outputs": [
    {
     "data": {
      "application/vnd.jupyter.widget-view+json": {
       "model_id": "697d430379954be6ada3bc1bbb786a73",
       "version_major": 2,
       "version_minor": 0
      },
      "text/plain": [
       "HBox(children=(IntProgress(value=0, max=25475), HTML(value='')))"
      ]
     },
     "metadata": {},
     "output_type": "display_data"
    },
    {
     "name": "stdout",
     "output_type": "stream",
     "text": [
      "\n"
     ]
    }
   ],
   "source": [
    "final_DF = defaultdict(float)\n",
    "for book_id in tqdm.tqdm(splitted_review):\n",
    "    d_i = len(splitted_review[book_id])\n",
    "    for word in popular_words:\n",
    "        if (word+\"-\"+book_id) in DF:\n",
    "            final_DF[word+\"-\"+book_id] = DF[word+\"-\"+book_id] / d_i"
   ]
  },
  {
   "cell_type": "code",
   "execution_count": 21,
   "metadata": {},
   "outputs": [],
   "source": [
    "DF = final_DF"
   ]
  },
  {
   "cell_type": "code",
   "execution_count": 24,
   "metadata": {},
   "outputs": [
    {
     "data": {
      "image/png": "[encoded data removed]",
      "text/plain": [
       "<Figure size 432x288 with 1 Axes>"
      ]
     },
     "metadata": {
      "needs_background": "light"
     },
     "output_type": "display_data"
    }
   ],
   "source": [
    "%matplotlib inline\n",
    "import matplotlib.pyplot as plt\n",
    "plt.hist(DF.values(), bins = 30)\n",
    "plt.yscale('log', nonposy='clip')\n",
    "plt.show()"
   ]
  },
  {
   "cell_type": "markdown",
   "metadata": {},
   "source": [
    "## 1.5.4 Let's compute Inverse Item Frequency (IIF)"
   ]
  },
  {
   "cell_type": "code",
   "execution_count": 18,
   "metadata": {
    "scrolled": false
   },
   "outputs": [
    {
     "data": {
      "application/vnd.jupyter.widget-view+json": {
       "model_id": "d9c0fc6f7cf7482486e13d8479440b07",
       "version_major": 2,
       "version_minor": 0
      },
      "text/plain": [
       "HBox(children=(IntProgress(value=0, max=25475), HTML(value='')))"
      ]
     },
     "metadata": {},
     "output_type": "display_data"
    },
    {
     "name": "stdout",
     "output_type": "stream",
     "text": [
      "\n"
     ]
    }
   ],
   "source": [
    "IF = defaultdict(float)\n",
    "epsilon = 1e-5\n",
    "for book_id in tqdm.tqdm(splitted_review):\n",
    "    whole_paragraph = ''\n",
    "    for paragraph, _ in splitted_review[book_id]:\n",
    "        whole_paragraph += ' ' + paragraph\n",
    "    all_words = set(whole_paragraph.split())\n",
    "    for word in all_words:\n",
    "        if word in popular_words:\n",
    "            IF[word] += 1\n",
    "\n",
    "IIF = defaultdict(float)    \n",
    "for word in IF:\n",
    "    IIF[word] = - np.log((IF[word] + epsilon) / (len(splitted_review) + epsilon))"
   ]
  },
  {
   "cell_type": "code",
   "execution_count": 26,
   "metadata": {},
   "outputs": [
    {
     "data": {
      "image/png": "[encoded data removed]",
      "text/plain": [
       "<Figure size 432x288 with 1 Axes>"
      ]
     },
     "metadata": {
      "needs_background": "light"
     },
     "output_type": "display_data"
    }
   ],
   "source": [
    "%matplotlib inline\n",
    "import matplotlib.pyplot as plt\n",
    "plt.hist(IIF.values(), bins = 30)\n",
    "plt.show()"
   ]
  },
  {
   "cell_type": "markdown",
   "metadata": {},
   "source": [
    "## 1.5.5 Let's compute DF-IIF"
   ]
  },
  {
   "cell_type": "code",
   "execution_count": 19,
   "metadata": {},
   "outputs": [
    {
     "data": {
      "application/vnd.jupyter.widget-view+json": {
       "model_id": "77ad9cee6ab248d48fa2bb12f95d46be",
       "version_major": 2,
       "version_minor": 0
      },
      "text/plain": [
       "HBox(children=(IntProgress(value=0, max=26449400), HTML(value='')))"
      ]
     },
     "metadata": {},
     "output_type": "display_data"
    },
    {
     "name": "stdout",
     "output_type": "stream",
     "text": [
      "\n"
     ]
    }
   ],
   "source": [
    "DF_IIF = defaultdict(float)\n",
    "for word_book_id in tqdm.tqdm(DF):\n",
    "    try:\n",
    "        word, book_id = word_book_id.split(\"-\")\n",
    "    except:\n",
    "        print(word_book_id)\n",
    "    DF_IIF[word_book_id] = DF[word_book_id] * IIF[word]"
   ]
  },
  {
   "cell_type": "code",
   "execution_count": 28,
   "metadata": {},
   "outputs": [
    {
     "data": {
      "image/png": "[encoded data removed]",
      "text/plain": [
       "<Figure size 432x288 with 1 Axes>"
      ]
     },
     "metadata": {
      "needs_background": "light"
     },
     "output_type": "display_data"
    }
   ],
   "source": [
    "%matplotlib inline\n",
    "import matplotlib.pyplot as plt\n",
    "plt.hist(DF_IIF.values(), bins = 30)\n",
    "plt.yscale('log', nonposy='clip')\n",
    "plt.show()"
   ]
  },
  {
   "cell_type": "code",
   "execution_count": 29,
   "metadata": {},
   "outputs": [],
   "source": [
    "counts = [(DF_IIF[w], w) for w in DF_IIF]"
   ]
  },
  {
   "cell_type": "code",
   "execution_count": null,
   "metadata": {},
   "outputs": [],
   "source": [
    "counts.sort(key=lambda kv: kv[0])\n",
    "counts.reverse()\n",
    "\n",
    "counts[:20]"
   ]
  },
  {
   "cell_type": "code",
   "execution_count": null,
   "metadata": {
    "scrolled": true
   },
   "outputs": [],
   "source": [
    "counts[:190]"
   ]
  },
  {
   "cell_type": "markdown",
   "metadata": {},
   "source": [
    "## 1.5.6 Save Parameters"
   ]
  },
  {
   "cell_type": "code",
   "execution_count": 20,
   "metadata": {},
   "outputs": [],
   "source": [
    "import pickle\n",
    "with open('../data/DF-IIF.pkl', 'w+') as f:\n",
    "    json.dump({'DF':DF, 'IIF':IIF, 'DF-IIF':DF_IIF}, f)"
   ]
  },
  {
   "cell_type": "markdown",
   "metadata": {},
   "source": [
    "##  Popular word for specific book"
   ]
  },
  {
   "cell_type": "code",
   "execution_count": 7,
   "metadata": {},
   "outputs": [
    {
     "data": {
      "application/vnd.jupyter.widget-view+json": {
       "model_id": "b4139b79cabc4be1982f8e296d5d968a",
       "version_major": 2,
       "version_minor": 0
      },
      "text/plain": [
       "HBox(children=(IntProgress(value=0, max=1092427), HTML(value='')))"
      ]
     },
     "metadata": {},
     "output_type": "display_data"
    },
    {
     "name": "stdout",
     "output_type": "stream",
     "text": [
      "\n"
     ]
    }
   ],
   "source": [
    "words_of_book = defaultdict(lambda: defaultdict(int))\n",
    "    \n",
    "for line in tqdm.tqdm(train_lines):\n",
    "    book_id = line['book_id']\n",
    "    \n",
    "    for sentence in line['review_sentences']:\n",
    "        sentence = clean_review(sentence[1])\n",
    "        \n",
    "        if (sentence != '') and (sentence is not None):\n",
    "            for word in sentence.split():\n",
    "                if word not in cachedStopWords:\n",
    "                    words_of_book[book_id][word]+=1\n",
    "                \n",
    "\n",
    "\n"
   ]
  },
  {
   "cell_type": "code",
   "execution_count": 28,
   "metadata": {},
   "outputs": [
    {
     "data": {
      "application/vnd.jupyter.widget-view+json": {
       "model_id": "aefa21735c0f49b686d922f3e27f947c",
       "version_major": 2,
       "version_minor": 0
      },
      "text/plain": [
       "HBox(children=(IntProgress(value=0, max=25475), HTML(value='')))"
      ]
     },
     "metadata": {},
     "output_type": "display_data"
    },
    {
     "name": "stdout",
     "output_type": "stream",
     "text": [
      "\n"
     ]
    }
   ],
   "source": [
    "popular_of_book = defaultdict(list)\n",
    "map_stem_words = {}\n",
    "for book_id in tqdm.tqdm(words_of_book):\n",
    "    stem_words = defaultdict(int)\n",
    "    \n",
    "    words = words_of_book[book_id]\n",
    "    for word in list(words.keys()):\n",
    "        stem_word = stemmer.stem(word)\n",
    "        map_stem_words[word] = stem_word\n",
    "        stem_words[stem_word] += words[word]\n",
    "    counts = [(stem_words[w], w) for w in stem_words]\n",
    "    counts.sort()\n",
    "    counts.reverse()\n",
    "    popular_of_book[book_id] = counts"
   ]
  },
  {
   "cell_type": "code",
   "execution_count": 9,
   "metadata": {},
   "outputs": [
    {
     "data": {
      "application/vnd.jupyter.widget-view+json": {
       "model_id": "c672df89184e47c589412809ddfbbdd3",
       "version_major": 2,
       "version_minor": 0
      },
      "text/plain": [
       "HBox(children=(IntProgress(value=0, max=25475), HTML(value='')))"
      ]
     },
     "metadata": {},
     "output_type": "display_data"
    },
    {
     "name": "stdout",
     "output_type": "stream",
     "text": [
      "\n"
     ]
    }
   ],
   "source": [
    "word_pool_of_book = defaultdict(list)\n",
    "for book_id in tqdm.tqdm(popular_of_book):\n",
    "    tuples = popular_of_book[book_id][:100]\n",
    "    word_pool_of_book[book_id] = [tuple_[1] for tuple_ in tuples]"
   ]
  },
  {
   "cell_type": "markdown",
   "metadata": {},
   "source": [
    "## Remove ban word"
   ]
  },
  {
   "cell_type": "code",
   "execution_count": 66,
   "metadata": {},
   "outputs": [
    {
     "data": {
      "application/vnd.jupyter.widget-view+json": {
       "model_id": "f53e63c3456a46798a14210d1059d718",
       "version_major": 2,
       "version_minor": 0
      },
      "text/plain": [
       "HBox(children=(IntProgress(value=0, max=25475), HTML(value='')))"
      ]
     },
     "metadata": {},
     "output_type": "display_data"
    },
    {
     "name": "stdout",
     "output_type": "stream",
     "text": [
      "\n"
     ]
    }
   ],
   "source": [
    "word_pool_of_book_ban = defaultdict(list)\n",
    "for book_id in tqdm.tqdm(popular_of_book):\n",
    "    num = 0\n",
    "    for _, word in  popular_of_book[book_id]:\n",
    "        if word not in ban_words:\n",
    "            word_pool_of_book_ban[book_id].append(word)\n",
    "            num+=1\n",
    "            if num==500:\n",
    "                break"
   ]
  },
  {
   "cell_type": "code",
   "execution_count": 67,
   "metadata": {},
   "outputs": [],
   "source": [
    "word_pool_of_book = word_pool_of_book_ban"
   ]
  },
  {
   "cell_type": "markdown",
   "metadata": {},
   "source": [
    "## Compute conditional DF for each book-word pair "
   ]
  },
  {
   "cell_type": "code",
   "execution_count": 68,
   "metadata": {},
   "outputs": [
    {
     "data": {
      "application/vnd.jupyter.widget-view+json": {
       "model_id": "0dead4a5914848afa8375a19ba54566d",
       "version_major": 2,
       "version_minor": 0
      },
      "text/plain": [
       "HBox(children=(IntProgress(value=0, max=1092427), HTML(value='')))"
      ]
     },
     "metadata": {},
     "output_type": "display_data"
    },
    {
     "name": "stdout",
     "output_type": "stream",
     "text": [
      "\n"
     ]
    }
   ],
   "source": [
    "from collections import defaultdict\n",
    "import tqdm.notebook as tqdm\n",
    "count_spoiler = defaultdict(int)\n",
    "count_total_review = defaultdict(int)\n",
    "for line in tqdm.tqdm(train_lines):\n",
    "    book_id = line['book_id']\n",
    "    label = line['has_spoiler']\n",
    "    for sentence in line['review_sentences']:\n",
    "        sentence = clean_review(sentence[1])\n",
    "        if (sentence != '') and (sentence is not None):\n",
    "            for word in sentence.split():\n",
    "                if word in map_stem_words:\n",
    "                    word = map_stem_words[word]\n",
    "                else:\n",
    "                    continue\n",
    "                if word in word_pool_of_book[book_id]:\n",
    "                    count_total_review[word+'-'+book_id] += 1\n",
    "                if label == True:\n",
    "                    count_spoiler[word+'-'+book_id] += 1\n",
    "                    \n",
    "conditional_DF = defaultdict(float)\n",
    "for key in count_total_review:\n",
    "    conditional_DF[key] = count_spoiler[key] / count_total_review[key]"
   ]
  },
  {
   "cell_type": "code",
   "execution_count": 69,
   "metadata": {},
   "outputs": [],
   "source": [
    "count_word_in_spoiler = count_spoiler\n",
    "count_word_in_total_review = count_total_review"
   ]
  },
  {
   "cell_type": "code",
   "execution_count": 70,
   "metadata": {},
   "outputs": [
    {
     "data": {
      "application/vnd.jupyter.widget-view+json": {
       "model_id": "460c26f52f6c460484d6b3b0ffb19894",
       "version_major": 2,
       "version_minor": 0
      },
      "text/plain": [
       "HBox(children=(IntProgress(value=0, max=1092427), HTML(value='')))"
      ]
     },
     "metadata": {},
     "output_type": "display_data"
    },
    {
     "name": "stdout",
     "output_type": "stream",
     "text": [
      "\n"
     ]
    }
   ],
   "source": [
    "count_spoiler_review = defaultdict(int)\n",
    "count_review = defaultdict(int)\n",
    "for line in tqdm.tqdm(train_lines):\n",
    "    book_id = line['book_id']\n",
    "    label = line['has_spoiler']\n",
    "    count_review[book_id] += 1\n",
    "    if label == True:\n",
    "        count_spoiler_review[book_id] += 1"
   ]
  },
  {
   "cell_type": "code",
   "execution_count": 18,
   "metadata": {},
   "outputs": [],
   "source": [
    "#Save conditional DF\n",
    "with open('../data/count_DF.pkl', 'w+') as f:\n",
    "    json.dump({'DF':conditional_DF,\n",
    "              'train_data': train_lines,\n",
    "              'test_data':test_lines,\n",
    "              'valid_data':valid_lines,\n",
    "              'word_pool_of_book': word_pool_of_book,\n",
    "              'map_stem_words': map_stem_words,\n",
    "              'words_of_book': words_of_book }, f)"
   ]
  },
  {
   "cell_type": "code",
   "execution_count": 3,
   "metadata": {},
   "outputs": [],
   "source": [
    "import json\n",
    "#Load conditional DF\n",
    "with open('../data/count_DF.pkl', 'r') as f:\n",
    "    shit = json.load(f)"
   ]
  },
  {
   "cell_type": "code",
   "execution_count": 4,
   "metadata": {},
   "outputs": [],
   "source": [
    "conditional_DF = shit['DF']\n",
    "train_lines = shit['train_data']\n",
    "test_lines = shit['test_data']\n",
    "valid_lines = shit['valid_data']\n",
    "word_pool_of_book = shit['word_pool_of_book']\n",
    "map_stem_words = shit['map_stem_words']\n",
    "words_of_book = shit['words_of_book']"
   ]
  },
  {
   "cell_type": "code",
   "execution_count": 14,
   "metadata": {},
   "outputs": [
    {
     "name": "stdout",
     "output_type": "stream",
     "text": [
      "False\n"
     ]
    }
   ],
   "source": [
    "print(label)"
   ]
  },
  {
   "cell_type": "code",
   "execution_count": 71,
   "metadata": {},
   "outputs": [],
   "source": [
    "normalized_freq = defaultdict(float)\n",
    "for key in count_total_review:\n",
    "    book_id = key.split('-')[1]\n",
    "    normalized_freq[key] = conditional_DF[key]*(count_review[book_id]+1) / (count_spoiler_review[book_id]+1)\n",
    "    "
   ]
  },
  {
   "cell_type": "markdown",
   "metadata": {},
   "source": [
    "## Draw a histogram of the current conditional DF"
   ]
  },
  {
   "cell_type": "code",
   "execution_count": 72,
   "metadata": {},
   "outputs": [
    {
     "data": {
      "image/png": "[encoded data removed]",
      "text/plain": [
       "<Figure size 432x288 with 1 Axes>"
      ]
     },
     "metadata": {
      "needs_background": "light"
     },
     "output_type": "display_data"
    }
   ],
   "source": [
    "%matplotlib inline\n",
    "import matplotlib.pyplot as plt\n",
    "plt.hist(conditional_DF.values(), bins = 30)\n",
    "plt.yscale('log', nonposy='clip')\n",
    "plt.show()"
   ]
  },
  {
   "cell_type": "markdown",
   "metadata": {},
   "source": [
    "## Predict Using DF with Logistic Regression using count$\\cdot$DF feature "
   ]
  },
  {
   "cell_type": "code",
   "execution_count": 73,
   "metadata": {},
   "outputs": [],
   "source": [
    "train_data_svm = []\n",
    "train_label_svm = []\n",
    "\n",
    "def feat(words, book_id):\n",
    "    feat = [0] * 100\n",
    "    for word in words:\n",
    "        if word in map_stem_words:\n",
    "            word = map_stem_words[word]\n",
    "        else:\n",
    "            continue\n",
    "        if word in word_pool_of_book[book_id]:\n",
    "            word_id = word_pool_of_book[book_id].index(word)\n",
    "            feat[word_id] += conditional_DF[word+'-'+book_id]\n",
    "    feat = feat + [1]\n",
    "    return feat\n",
    "\n",
    "def get_data_and_label(target_lines, feat):\n",
    "    target_data_svm = []\n",
    "    target_label_svm = []\n",
    "    for line in tqdm.tqdm(target_lines):\n",
    "        book_id = line['book_id']\n",
    "        label = line['has_spoiler']\n",
    "        whole_review = ''\n",
    "        for sentence in line['review_sentences']:\n",
    "            whole_review = whole_review + ' ' + clean_review(sentence[1])\n",
    "        target_data_svm.append(feat(whole_review.split(), book_id))\n",
    "        target_label_svm.append(label)\n",
    "    return target_data_svm, target_label_svm\n",
    "\n",
    "#train_data_svm, train_label_svm = get_data_and_label(train_lines)\n",
    "#test_data_svm, test_label_svm = get_data_and_label(test_lines)"
   ]
  },
  {
   "cell_type": "markdown",
   "metadata": {},
   "source": [
    "## Predict using normalized freq with Logistic Reg"
   ]
  },
  {
   "cell_type": "code",
   "execution_count": 75,
   "metadata": {
    "scrolled": true
   },
   "outputs": [
    {
     "data": {
      "application/vnd.jupyter.widget-view+json": {
       "model_id": "64038166ffac40c39b5c7d5f7cc72cc8",
       "version_major": 2,
       "version_minor": 0
      },
      "text/plain": [
       "HBox(children=(IntProgress(value=0, max=1092427), HTML(value='')))"
      ]
     },
     "metadata": {},
     "output_type": "display_data"
    },
    {
     "name": "stdout",
     "output_type": "stream",
     "text": [
      "\n"
     ]
    }
   ],
   "source": [
    "\n",
    "def feat_normalf(words, book_id):\n",
    "    feat = [0] * 500\n",
    "    for word in words:\n",
    "        if word in map_stem_words:\n",
    "            word = map_stem_words[word]\n",
    "        else:\n",
    "            continue\n",
    "        if word in word_pool_of_book[book_id]:\n",
    "            word_id = word_pool_of_book[book_id].index(word)\n",
    "            feat[word_id] += normalized_freq[word+'-'+book_id]\n",
    "    feat = feat + [1]\n",
    "    return feat\n",
    "train_data_svm, train_label_svm = get_data_and_label(train_lines, feat_normalf)\n",
    "test_data_svm, test_label_svm = get_data_and_label(test_lines, feat_normalf)\n",
    "valid_data, valid_label = get_data_and_label(valid_lines, feat_normalf)\n",
    "from sklearn.linear_model import LogisticRegression\n",
    "lrmod = LogisticRegression(class_weight='balanced', multi_class='auto')\n",
    "lrmod.fit(train_data_svm, train_label_svm)\n",
    "lrmod.score(test_data_svm, test_label_svm)\n",
    "\n",
    "from sklearn import metrics\n",
    "prob = lrmod.predict_proba(test_data_svm)\n",
    "prob = prob[:,1].reshape(-1)\n",
    "fpr, tpr, thresholds = metrics.roc_curve(test_label_svm, prob)\n",
    "metrics.auc(fpr, tpr)"
   ]
  },
  {
   "cell_type": "code",
   "execution_count": 76,
   "metadata": {},
   "outputs": [
    {
     "data": {
      "application/vnd.jupyter.widget-view+json": {
       "model_id": "848689f293ee4a04883a8ec864c83af1",
       "version_major": 2,
       "version_minor": 0
      },
      "text/plain": [
       "HBox(children=(IntProgress(value=0, max=275606), HTML(value='')))"
      ]
     },
     "metadata": {},
     "output_type": "display_data"
    },
    {
     "name": "stdout",
     "output_type": "stream",
     "text": [
      "\n"
     ]
    }
   ],
   "source": [
    "test_data_svm, test_label_svm = get_data_and_label(test_lines, feat_normalf)"
   ]
  },
  {
   "cell_type": "code",
   "execution_count": 77,
   "metadata": {},
   "outputs": [
    {
     "data": {
      "application/vnd.jupyter.widget-view+json": {
       "model_id": "7ae38545fde94ecdb54d7c2b1ee72790",
       "version_major": 2,
       "version_minor": 0
      },
      "text/plain": [
       "HBox(children=(IntProgress(value=0, max=10000), HTML(value='')))"
      ]
     },
     "metadata": {},
     "output_type": "display_data"
    },
    {
     "name": "stdout",
     "output_type": "stream",
     "text": [
      "\n"
     ]
    }
   ],
   "source": [
    "valid_data, valid_label = get_data_and_label(valid_lines, feat_normalf)\n"
   ]
  },
  {
   "cell_type": "code",
   "execution_count": 57,
   "metadata": {},
   "outputs": [],
   "source": [
    "import pickle\n",
    "#save training/test data with cont-DF\n",
    "with open('../data/normal_freq.pkl', 'w+') as f:\n",
    "    json.dump({'train_data':train_data_svm, \n",
    "               'train_label':train_label_svm,\n",
    "              'test_data':test_data_svm,\n",
    "              'test_label':test_label_svm,\n",
    "              'valid_data':valid_data,\n",
    "              'valid_label':valid_label}, f)"
   ]
  },
  {
   "cell_type": "code",
   "execution_count": null,
   "metadata": {},
   "outputs": [],
   "source": [
    "train_data_svm[2]"
   ]
  },
  {
   "cell_type": "markdown",
   "metadata": {},
   "source": [
    "### Use SVM"
   ]
  },
  {
   "cell_type": "code",
   "execution_count": null,
   "metadata": {},
   "outputs": [],
   "source": [
    "from sklearn.svm import SVC\n",
    "clf = SVC(gamma='auto', class_weight='balanced')\n",
    "clf.fit(train_data_svm, train_label_svm)\n",
    "clf.score(test_data_svm, test_label_svm)"
   ]
  },
  {
   "cell_type": "markdown",
   "metadata": {},
   "source": [
    "### Use Logistic Regression"
   ]
  },
  {
   "cell_type": "code",
   "execution_count": 78,
   "metadata": {},
   "outputs": [
    {
     "name": "stderr",
     "output_type": "stream",
     "text": [
      "C:\\Users\\shaor\\Anaconda3\\lib\\site-packages\\sklearn\\linear_model\\logistic.py:432: FutureWarning: Default solver will be changed to 'lbfgs' in 0.22. Specify a solver to silence this warning.\n",
      "  FutureWarning)\n"
     ]
    },
    {
     "data": {
      "text/plain": [
       "0.8515779772573892"
      ]
     },
     "execution_count": 78,
     "metadata": {},
     "output_type": "execute_result"
    }
   ],
   "source": [
    "from sklearn.linear_model import LogisticRegression\n",
    "lrmod = LogisticRegression(class_weight='balanced', multi_class='auto')\n",
    "lrmod.fit(train_data_svm, train_label_svm)\n",
    "lrmod.score(test_data_svm, test_label_svm)"
   ]
  },
  {
   "cell_type": "code",
   "execution_count": 79,
   "metadata": {},
   "outputs": [],
   "source": [
    "import numpy as np\n",
    "test_label_svm = [1 if label else 0 for label in test_label_svm ]\n",
    "test_label_svm = np.array(test_label_svm)\n",
    "prob = np.array(prob)"
   ]
  },
  {
   "cell_type": "code",
   "execution_count": 48,
   "metadata": {},
   "outputs": [
    {
     "name": "stdout",
     "output_type": "stream",
     "text": [
      "[[0.81924476 0.18075524]\n",
      " [0.81030454 0.18969546]\n",
      " [0.65205071 0.34794929]\n",
      " [0.13373425 0.86626575]\n",
      " [0.81924476 0.18075524]\n",
      " [0.82926213 0.17073787]\n",
      " [0.73517198 0.26482802]\n",
      " [0.52289477 0.47710523]\n",
      " [0.75664534 0.24335466]\n",
      " [0.81924476 0.18075524]]\n"
     ]
    },
    {
     "data": {
      "text/plain": [
       "array([1, 0, 0, 1, 0, 0, 0, 0, 0, 0])"
      ]
     },
     "execution_count": 48,
     "metadata": {},
     "output_type": "execute_result"
    }
   ],
   "source": [
    "print(prob[:10])\n",
    "test_label_svm[:10]"
   ]
  },
  {
   "cell_type": "code",
   "execution_count": 80,
   "metadata": {},
   "outputs": [
    {
     "data": {
      "text/plain": [
       "0.6210483710473824"
      ]
     },
     "execution_count": 80,
     "metadata": {},
     "output_type": "execute_result"
    }
   ],
   "source": [
    "from sklearn import metrics\n",
    "prob = lrmod.predict_proba(test_data_svm)\n",
    "prob = prob[:,1].reshape(-1)\n",
    "fpr, tpr, thresholds = metrics.roc_curve(test_label_svm, prob)\n",
    "metrics.auc(fpr, tpr)"
   ]
  },
  {
   "cell_type": "markdown",
   "metadata": {},
   "source": [
    "## Statistics on normalized frequency"
   ]
  },
  {
   "cell_type": "code",
   "execution_count": 97,
   "metadata": {},
   "outputs": [
    {
     "data": {
      "image/png": "[encoded data removed]",
      "text/plain": [
       "<Figure size 432x288 with 1 Axes>"
      ]
     },
     "metadata": {
      "needs_background": "light"
     },
     "output_type": "display_data"
    }
   ],
   "source": [
    "%matplotlib inline\n",
    "import matplotlib.pyplot as plt\n",
    "plt.hist(values, bins = 30)\n",
    "plt.yscale('log', nonposy='clip')\n",
    "plt.show()"
   ]
  },
  {
   "cell_type": "code",
   "execution_count": 92,
   "metadata": {},
   "outputs": [],
   "source": [
    "values = np.array(list(normalized_freq.values()))"
   ]
  },
  {
   "cell_type": "code",
   "execution_count": 93,
   "metadata": {},
   "outputs": [],
   "source": [
    "values = [ value if value>=1.0 else 0 for value in values]"
   ]
  },
  {
   "cell_type": "code",
   "execution_count": 102,
   "metadata": {
    "scrolled": true
   },
   "outputs": [
    {
     "data": {
      "application/vnd.jupyter.widget-view+json": {
       "model_id": "9bf0d82c7c51493ca490ed31bf1c7ab8",
       "version_major": 2,
       "version_minor": 0
      },
      "text/plain": [
       "HBox(children=(IntProgress(value=0, max=1092427), HTML(value='')))"
      ]
     },
     "metadata": {},
     "output_type": "display_data"
    },
    {
     "name": "stdout",
     "output_type": "stream",
     "text": [
      "\n"
     ]
    },
    {
     "data": {
      "application/vnd.jupyter.widget-view+json": {
       "model_id": "988d1ff68a8a4c648b0d28edf61fc9e1",
       "version_major": 2,
       "version_minor": 0
      },
      "text/plain": [
       "HBox(children=(IntProgress(value=0, max=275606), HTML(value='')))"
      ]
     },
     "metadata": {},
     "output_type": "display_data"
    },
    {
     "name": "stdout",
     "output_type": "stream",
     "text": [
      "\n"
     ]
    },
    {
     "data": {
      "application/vnd.jupyter.widget-view+json": {
       "model_id": "6c4874c98d894b6a9a22611483a6f508",
       "version_major": 2,
       "version_minor": 0
      },
      "text/plain": [
       "HBox(children=(IntProgress(value=0, max=10000), HTML(value='')))"
      ]
     },
     "metadata": {},
     "output_type": "display_data"
    },
    {
     "name": "stdout",
     "output_type": "stream",
     "text": [
      "\n"
     ]
    },
    {
     "name": "stderr",
     "output_type": "stream",
     "text": [
      "C:\\Users\\shaor\\Anaconda3\\lib\\site-packages\\sklearn\\linear_model\\logistic.py:432: FutureWarning: Default solver will be changed to 'lbfgs' in 0.22. Specify a solver to silence this warning.\n",
      "  FutureWarning)\n"
     ]
    },
    {
     "ename": "ValueError",
     "evalue": "Found input variables with inconsistent numbers of samples: [275606, 10000]",
     "output_type": "error",
     "traceback": [
      "\u001b[1;31m---------------------------------------------------------------------------\u001b[0m",
      "\u001b[1;31mValueError\u001b[0m                                Traceback (most recent call last)",
      "\u001b[1;32m<ipython-input-102-bb64705530c6>\u001b[0m in \u001b[0;36m<module>\u001b[1;34m\u001b[0m\n\u001b[0;32m     27\u001b[0m \u001b[0mprob\u001b[0m \u001b[1;33m=\u001b[0m \u001b[0mlrmod\u001b[0m\u001b[1;33m.\u001b[0m\u001b[0mpredict_proba\u001b[0m\u001b[1;33m(\u001b[0m\u001b[0mvalid_data_sorted\u001b[0m\u001b[1;33m)\u001b[0m\u001b[1;33m\u001b[0m\u001b[1;33m\u001b[0m\u001b[0m\n\u001b[0;32m     28\u001b[0m \u001b[0mprob\u001b[0m \u001b[1;33m=\u001b[0m \u001b[0mprob\u001b[0m\u001b[1;33m[\u001b[0m\u001b[1;33m:\u001b[0m\u001b[1;33m,\u001b[0m\u001b[1;36m1\u001b[0m\u001b[1;33m]\u001b[0m\u001b[1;33m.\u001b[0m\u001b[0mreshape\u001b[0m\u001b[1;33m(\u001b[0m\u001b[1;33m-\u001b[0m\u001b[1;36m1\u001b[0m\u001b[1;33m)\u001b[0m\u001b[1;33m\u001b[0m\u001b[1;33m\u001b[0m\u001b[0m\n\u001b[1;32m---> 29\u001b[1;33m \u001b[0mfpr\u001b[0m\u001b[1;33m,\u001b[0m \u001b[0mtpr\u001b[0m\u001b[1;33m,\u001b[0m \u001b[0mthresholds\u001b[0m \u001b[1;33m=\u001b[0m \u001b[0mmetrics\u001b[0m\u001b[1;33m.\u001b[0m\u001b[0mroc_curve\u001b[0m\u001b[1;33m(\u001b[0m\u001b[0mtest_label_sorted\u001b[0m\u001b[1;33m,\u001b[0m \u001b[0mprob\u001b[0m\u001b[1;33m)\u001b[0m\u001b[1;33m\u001b[0m\u001b[1;33m\u001b[0m\u001b[0m\n\u001b[0m\u001b[0;32m     30\u001b[0m \u001b[0mmetrics\u001b[0m\u001b[1;33m.\u001b[0m\u001b[0mauc\u001b[0m\u001b[1;33m(\u001b[0m\u001b[0mfpr\u001b[0m\u001b[1;33m,\u001b[0m \u001b[0mtpr\u001b[0m\u001b[1;33m)\u001b[0m\u001b[1;33m\u001b[0m\u001b[1;33m\u001b[0m\u001b[0m\n",
      "\u001b[1;32m~\\Anaconda3\\lib\\site-packages\\sklearn\\metrics\\ranking.py\u001b[0m in \u001b[0;36mroc_curve\u001b[1;34m(y_true, y_score, pos_label, sample_weight, drop_intermediate)\u001b[0m\n\u001b[0;32m    620\u001b[0m     \"\"\"\n\u001b[0;32m    621\u001b[0m     fps, tps, thresholds = _binary_clf_curve(\n\u001b[1;32m--> 622\u001b[1;33m         y_true, y_score, pos_label=pos_label, sample_weight=sample_weight)\n\u001b[0m\u001b[0;32m    623\u001b[0m \u001b[1;33m\u001b[0m\u001b[0m\n\u001b[0;32m    624\u001b[0m     \u001b[1;31m# Attempt to drop thresholds corresponding to points in between and\u001b[0m\u001b[1;33m\u001b[0m\u001b[1;33m\u001b[0m\u001b[1;33m\u001b[0m\u001b[0m\n",
      "\u001b[1;32m~\\Anaconda3\\lib\\site-packages\\sklearn\\metrics\\ranking.py\u001b[0m in \u001b[0;36m_binary_clf_curve\u001b[1;34m(y_true, y_score, pos_label, sample_weight)\u001b[0m\n\u001b[0;32m    396\u001b[0m         \u001b[1;32mraise\u001b[0m \u001b[0mValueError\u001b[0m\u001b[1;33m(\u001b[0m\u001b[1;34m\"{0} format is not supported\"\u001b[0m\u001b[1;33m.\u001b[0m\u001b[0mformat\u001b[0m\u001b[1;33m(\u001b[0m\u001b[0my_type\u001b[0m\u001b[1;33m)\u001b[0m\u001b[1;33m)\u001b[0m\u001b[1;33m\u001b[0m\u001b[1;33m\u001b[0m\u001b[0m\n\u001b[0;32m    397\u001b[0m \u001b[1;33m\u001b[0m\u001b[0m\n\u001b[1;32m--> 398\u001b[1;33m     \u001b[0mcheck_consistent_length\u001b[0m\u001b[1;33m(\u001b[0m\u001b[0my_true\u001b[0m\u001b[1;33m,\u001b[0m \u001b[0my_score\u001b[0m\u001b[1;33m,\u001b[0m \u001b[0msample_weight\u001b[0m\u001b[1;33m)\u001b[0m\u001b[1;33m\u001b[0m\u001b[1;33m\u001b[0m\u001b[0m\n\u001b[0m\u001b[0;32m    399\u001b[0m     \u001b[0my_true\u001b[0m \u001b[1;33m=\u001b[0m \u001b[0mcolumn_or_1d\u001b[0m\u001b[1;33m(\u001b[0m\u001b[0my_true\u001b[0m\u001b[1;33m)\u001b[0m\u001b[1;33m\u001b[0m\u001b[1;33m\u001b[0m\u001b[0m\n\u001b[0;32m    400\u001b[0m     \u001b[0my_score\u001b[0m \u001b[1;33m=\u001b[0m \u001b[0mcolumn_or_1d\u001b[0m\u001b[1;33m(\u001b[0m\u001b[0my_score\u001b[0m\u001b[1;33m)\u001b[0m\u001b[1;33m\u001b[0m\u001b[1;33m\u001b[0m\u001b[0m\n",
      "\u001b[1;32m~\\Anaconda3\\lib\\site-packages\\sklearn\\utils\\validation.py\u001b[0m in \u001b[0;36mcheck_consistent_length\u001b[1;34m(*arrays)\u001b[0m\n\u001b[0;32m    203\u001b[0m     \u001b[1;32mif\u001b[0m \u001b[0mlen\u001b[0m\u001b[1;33m(\u001b[0m\u001b[0muniques\u001b[0m\u001b[1;33m)\u001b[0m \u001b[1;33m>\u001b[0m \u001b[1;36m1\u001b[0m\u001b[1;33m:\u001b[0m\u001b[1;33m\u001b[0m\u001b[1;33m\u001b[0m\u001b[0m\n\u001b[0;32m    204\u001b[0m         raise ValueError(\"Found input variables with inconsistent numbers of\"\n\u001b[1;32m--> 205\u001b[1;33m                          \" samples: %r\" % [int(l) for l in lengths])\n\u001b[0m\u001b[0;32m    206\u001b[0m \u001b[1;33m\u001b[0m\u001b[0m\n\u001b[0;32m    207\u001b[0m \u001b[1;33m\u001b[0m\u001b[0m\n",
      "\u001b[1;31mValueError\u001b[0m: Found input variables with inconsistent numbers of samples: [275606, 10000]"
     ]
    }
   ],
   "source": [
    "def feat_normalf_hist(words, book_id, bin_=30):\n",
    "    feat = [0] * 500\n",
    "    for word in words:\n",
    "        if word in map_stem_words:\n",
    "            word = map_stem_words[word]\n",
    "        else:\n",
    "            continue\n",
    "        if word in word_pool_of_book[book_id]:\n",
    "            word_id = word_pool_of_book[book_id].index(word)\n",
    "            feat[word_id] += normalized_freq[word+'-'+book_id]\n",
    "    new_feat = [0] * bin_\n",
    "    feat = np.array(feat)\n",
    "    for i in range(bin_):\n",
    "        new_feat[i] = np.log(1+np.sum(np.logical_and(feat>=(150*(i)/(bin_)), feat<=(150*(i+1)/(bin_)))))\n",
    "    new_feat = new_feat / np.sum(new_feat)\n",
    "    new_feat = new_feat + [1]\n",
    "    return new_feat\n",
    "train_data_sorted, train_label_sorted = get_data_and_label(train_lines, feat_normalf_hist)\n",
    "test_data_sorted, test_label_sorted = get_data_and_label(test_lines, feat_normalf_hist)\n",
    "valid_data_sorted, valid_label_sorted = get_data_and_label(valid_lines, feat_normalf_hist)\n",
    "from sklearn.linear_model import LogisticRegression\n",
    "lrmod = LogisticRegression(class_weight='balanced', multi_class='auto')\n",
    "lrmod.fit(train_data_sorted, train_label_sorted)\n",
    "lrmod.score(test_data_sorted, test_label_sorted)\n"
   ]
  },
  {
   "cell_type": "code",
   "execution_count": 104,
   "metadata": {},
   "outputs": [
    {
     "data": {
      "text/plain": [
       "0.6423989841547622"
      ]
     },
     "execution_count": 104,
     "metadata": {},
     "output_type": "execute_result"
    }
   ],
   "source": [
    "import numpy as np\n",
    "test_label_sorted = [1 if label else 0 for label in test_label_sorted ]\n",
    "test_label_sorted = np.array(test_label_sorted)\n",
    "\n",
    "from sklearn import metrics\n",
    "prob = lrmod.predict_proba(test_data_sorted)\n",
    "prob = prob[:,1].reshape(-1)\n",
    "fpr, tpr, thresholds = metrics.roc_curve(test_label_sorted, prob)\n",
    "metrics.auc(fpr, tpr)"
   ]
  },
  {
   "cell_type": "markdown",
   "metadata": {},
   "source": [
    "# 2 Let's do some basic statistics."
   ]
  },
  {
   "cell_type": "markdown",
   "metadata": {},
   "source": [
    "## 2.1 Compute Histogram For Non-Spoiler Paragraph and Spoiler Paragraph"
   ]
  },
  {
   "cell_type": "code",
   "execution_count": null,
   "metadata": {},
   "outputs": [
    {
     "data": {
      "application/vnd.jupyter.widget-view+json": {
       "model_id": "4d7cf90ada9e41638f5263da37c14d5a",
       "version_major": 2,
       "version_minor": 0
      },
      "text/plain": [
       "HBox(children=(IntProgress(value=0, max=25475), HTML(value='')))"
      ]
     },
     "metadata": {},
     "output_type": "display_data"
    }
   ],
   "source": [
    "DF_IIF_no_spoiler = defaultdict(int)\n",
    "DF_IIF_spoiler = defaultdict(int)\n",
    "for book_id in tqdm.tqdm(splitted_review):\n",
    "    for paragraph, label in splitted_review[book_id]:\n",
    "        result = defaultdict(int)\n",
    "        words = paragraph.split()\n",
    "        for word in words:\n",
    "            if word in popular_words:\n",
    "                result[word] += 1\n",
    "        if label == 1:\n",
    "            for word in result:\n",
    "                DF_IIF_spoiler[word+\"-\"+book_id] += result[word]\n",
    "        else:\n",
    "            for word in result:\n",
    "                DF_IIF_no_spoiler[word+\"-\"+book_id] += result[word]\n",
    "                \n",
    "counts_no_spoiler = DF_IIF_no_spoiler\n",
    "counts_spoiler = DF_IIF_spoiler"
   ]
  },
  {
   "cell_type": "code",
   "execution_count": 78,
   "metadata": {},
   "outputs": [
    {
     "data": {
      "application/vnd.jupyter.widget-view+json": {
       "model_id": "de063ff57d12496f9284d84127598854",
       "version_major": 2,
       "version_minor": 0
      },
      "text/plain": [
       "HBox(children=(IntProgress(value=0, max=27673957), HTML(value='')))"
      ]
     },
     "metadata": {},
     "output_type": "display_data"
    },
    {
     "name": "stdout",
     "output_type": "stream",
     "text": [
      "\n"
     ]
    },
    {
     "data": {
      "application/vnd.jupyter.widget-view+json": {
       "model_id": "f59d2a1ca9fb46b193bfbce68b4f7f4d",
       "version_major": 2,
       "version_minor": 0
      },
      "text/plain": [
       "HBox(children=(IntProgress(value=0, max=8529593), HTML(value='')))"
      ]
     },
     "metadata": {},
     "output_type": "display_data"
    },
    {
     "name": "stdout",
     "output_type": "stream",
     "text": [
      "\n"
     ]
    }
   ],
   "source": [
    "def find_bin(freq, n_bins=30):\n",
    "    return int(freq*n_bins)\n",
    "\n",
    "DF_IIF_no_spoiler = defaultdict(int)\n",
    "DF_IIF_spoiler = defaultdict(int)\n",
    "for word in tqdm.tqdm(counts_no_spoiler):\n",
    "    DF_IIF_no_spoiler[find_bin(DF_IIF[word])] += counts_no_spoiler[word]\n",
    "\n",
    "for word in tqdm.tqdm(counts_spoiler):\n",
    "    DF_IIF_spoiler[find_bin(DF_IIF[word])] += counts_spoiler[word]    "
   ]
  },
  {
   "cell_type": "code",
   "execution_count": 85,
   "metadata": {},
   "outputs": [
    {
     "data": {
      "application/vnd.jupyter.widget-view+json": {
       "model_id": "a7ad532ba3e54ee0807995b11f74fe62",
       "version_major": 2,
       "version_minor": 0
      },
      "text/plain": [
       "HBox(children=(IntProgress(value=0, max=192), HTML(value='')))"
      ]
     },
     "metadata": {},
     "output_type": "display_data"
    },
    {
     "name": "stdout",
     "output_type": "stream",
     "text": [
      "\n"
     ]
    },
    {
     "data": {
      "application/vnd.jupyter.widget-view+json": {
       "model_id": "c899f9f4069046299201aa19ae467d13",
       "version_major": 2,
       "version_minor": 0
      },
      "text/plain": [
       "HBox(children=(IntProgress(value=0, max=190), HTML(value='')))"
      ]
     },
     "metadata": {},
     "output_type": "display_data"
    },
    {
     "name": "stdout",
     "output_type": "stream",
     "text": [
      "\n"
     ]
    }
   ],
   "source": [
    "no_spoiler_sum = np.sum(list(DF_IIF_no_spoiler.values()))\n",
    "for key in tqdm.tqdm(DF_IIF_no_spoiler):\n",
    "    DF_IIF_no_spoiler[key] = DF_IIF_no_spoiler[key] / no_spoiler_sum\n",
    "    \n",
    "spoiler_sum = np.sum(list(DF_IIF_spoiler.values()))\n",
    "for key in tqdm.tqdm(DF_IIF_spoiler):\n",
    "    DF_IIF_spoiler[key] = DF_IIF_spoiler[key] / spoiler_sum    "
   ]
  },
  {
   "cell_type": "code",
   "execution_count": 86,
   "metadata": {},
   "outputs": [
    {
     "data": {
      "image/png": "[encoded data removed]",
      "text/plain": [
       "<Figure size 432x288 with 1 Axes>"
      ]
     },
     "metadata": {
      "needs_background": "light"
     },
     "output_type": "display_data"
    }
   ],
   "source": [
    "plt.bar(DF_IIF_spoiler.keys(), DF_IIF_spoiler.values(), color='g')\n",
    "plt.yscale('log', nonposy='clip')\n",
    "plt.show()"
   ]
  },
  {
   "cell_type": "code",
   "execution_count": 87,
   "metadata": {},
   "outputs": [
    {
     "data": {
      "image/png": "[encoded data removed]",
      "text/plain": [
       "<Figure size 432x288 with 1 Axes>"
      ]
     },
     "metadata": {
      "needs_background": "light"
     },
     "output_type": "display_data"
    }
   ],
   "source": [
    "plt.bar(DF_IIF_no_spoiler.keys(), DF_IIF_no_spoiler.values(), color='g')\n",
    "plt.yscale('log', nonposy='clip')\n",
    "plt.show()"
   ]
  },
  {
   "cell_type": "code",
   "execution_count": 91,
   "metadata": {},
   "outputs": [
    {
     "data": {
      "image/png": "[encoded data removed]",
      "text/plain": [
       "<Figure size 432x288 with 1 Axes>"
      ]
     },
     "metadata": {
      "needs_background": "light"
     },
     "output_type": "display_data"
    }
   ],
   "source": [
    "difference = defaultdict(int)\n",
    "for i in range(250):\n",
    "    difference[i] = DF_IIF_no_spoiler[i] - DF_IIF_spoiler[i]\n",
    "plt.bar(difference.keys(), difference.values(), color='g')\n",
    "plt.yscale('log', nonposy='clip')\n",
    "plt.show()"
   ]
  },
  {
   "cell_type": "code",
   "execution_count": 92,
   "metadata": {
    "scrolled": false
   },
   "outputs": [
    {
     "data": {
      "image/png": "[encoded data removed]",
      "text/plain": [
       "<Figure size 432x288 with 1 Axes>"
      ]
     },
     "metadata": {
      "needs_background": "light"
     },
     "output_type": "display_data"
    }
   ],
   "source": [
    "difference = defaultdict(int)\n",
    "for i in range(250):\n",
    "    difference[i] = DF_IIF_spoiler[i] - DF_IIF_no_spoiler[i]\n",
    "plt.bar(difference.keys(), difference.values(), color='g')\n",
    "plt.yscale('log', nonposy='clip')\n",
    "plt.show()"
   ]
  },
  {
   "cell_type": "markdown",
   "metadata": {},
   "source": [
    "# 3 Use CNN to predict Reviews"
   ]
  },
  {
   "cell_type": "code",
   "execution_count": null,
   "metadata": {},
   "outputs": [
    {
     "data": {
      "application/vnd.jupyter.widget-view+json": {
       "model_id": "930d66c0a7ab42ab8b6eb3a05892cd44",
       "version_major": 2,
       "version_minor": 0
      },
      "text/plain": [
       "HBox(children=(IntProgress(value=0, max=25475), HTML(value='')))"
      ]
     },
     "metadata": {},
     "output_type": "display_data"
    }
   ],
   "source": []
  }
 ],
 "metadata": {
  "kernelspec": {
   "display_name": "Python 3",
   "language": "python",
   "name": "python3"
  },
  "language_info": {
   "codemirror_mode": {
    "name": "ipython",
    "version": 3
   },
   "file_extension": ".py",
   "mimetype": "text/x-python",
   "name": "python",
   "nbconvert_exporter": "python",
   "pygments_lexer": "ipython3",
   "version": "3.6.9"
  },
  "toc": {
   "base_numbering": 1,
   "nav_menu": {},
   "number_sections": false,
   "sideBar": true,
   "skip_h1_title": false,
   "title_cell": "Table of Contents",
   "title_sidebar": "Contents",
   "toc_cell": false,
   "toc_position": {},
   "toc_section_display": true,
   "toc_window_display": false
  }
 },
 "nbformat": 4,
 "nbformat_minor": 2
}
